{
 "cells": [
  {
   "cell_type": "code",
   "id": "initial_id",
   "metadata": {
    "collapsed": true,
    "ExecuteTime": {
     "end_time": "2025-03-09T07:26:38.744262Z",
     "start_time": "2025-03-09T07:26:36.857220Z"
    }
   },
   "source": [
    "import pandas as pd\n",
    "\n",
    "import pandas as pd\n",
    "\n",
    "p=pd.DataFrame([1,2,34,54,232,12],['a','b','c','d','e','f'])\n",
    "p"
   ],
   "outputs": [
    {
     "data": {
      "text/plain": [
       "     0\n",
       "a    1\n",
       "b    2\n",
       "c   34\n",
       "d   54\n",
       "e  232\n",
       "f   12"
      ],
      "text/html": [
       "<div>\n",
       "<style scoped>\n",
       "    .dataframe tbody tr th:only-of-type {\n",
       "        vertical-align: middle;\n",
       "    }\n",
       "\n",
       "    .dataframe tbody tr th {\n",
       "        vertical-align: top;\n",
       "    }\n",
       "\n",
       "    .dataframe thead th {\n",
       "        text-align: right;\n",
       "    }\n",
       "</style>\n",
       "<table border=\"1\" class=\"dataframe\">\n",
       "  <thead>\n",
       "    <tr style=\"text-align: right;\">\n",
       "      <th></th>\n",
       "      <th>0</th>\n",
       "    </tr>\n",
       "  </thead>\n",
       "  <tbody>\n",
       "    <tr>\n",
       "      <th>a</th>\n",
       "      <td>1</td>\n",
       "    </tr>\n",
       "    <tr>\n",
       "      <th>b</th>\n",
       "      <td>2</td>\n",
       "    </tr>\n",
       "    <tr>\n",
       "      <th>c</th>\n",
       "      <td>34</td>\n",
       "    </tr>\n",
       "    <tr>\n",
       "      <th>d</th>\n",
       "      <td>54</td>\n",
       "    </tr>\n",
       "    <tr>\n",
       "      <th>e</th>\n",
       "      <td>232</td>\n",
       "    </tr>\n",
       "    <tr>\n",
       "      <th>f</th>\n",
       "      <td>12</td>\n",
       "    </tr>\n",
       "  </tbody>\n",
       "</table>\n",
       "</div>"
      ]
     },
     "execution_count": 2,
     "metadata": {},
     "output_type": "execute_result"
    }
   ],
   "execution_count": 2
  },
  {
   "metadata": {
    "ExecuteTime": {
     "end_time": "2025-03-10T18:03:31.927789Z",
     "start_time": "2025-03-10T18:03:31.856883Z"
    }
   },
   "cell_type": "code",
   "source": [
    "df = pd.read_csv(\"Weather Records.csv\")\n",
    "print(df)"
   ],
   "id": "802f5cb554d7f5d5",
   "outputs": [
    {
     "name": "stdout",
     "output_type": "stream",
     "text": [
      "       Type Severity  StartTime(UTC)    EndTime(UTC)  Precipitation(in)  \\\n",
      "0      Snow    Light    1/6/16 23:14     1/7/16 0:34               0.00   \n",
      "1      Snow    Light     1/7/16 4:14     1/7/16 4:54               0.00   \n",
      "2      Snow    Light     1/7/16 5:54    1/7/16 15:34               0.03   \n",
      "3      Snow    Light     1/8/16 5:34     1/8/16 5:54               0.00   \n",
      "4      Snow    Light    1/8/16 13:54    1/8/16 15:54               0.00   \n",
      "...     ...      ...             ...             ...                ...   \n",
      "10577   Fog   Severe   12/27/21 9:55  12/27/21 12:15               0.00   \n",
      "10578  Snow    Light  12/28/21 15:55  12/28/21 19:35               0.00   \n",
      "10579  Snow    Light   12/29/21 2:35   12/29/21 2:55               0.00   \n",
      "10580  Snow    Light   12/30/21 7:55  12/30/21 10:55               0.00   \n",
      "10581   Fog   Severe   12/31/21 6:35   12/31/21 8:15               0.00   \n",
      "\n",
      "          TimeZone AirportCode  LocationLat  LocationLng        City  \\\n",
      "0      US/Mountain        K04V      38.0972    -106.1689    Saguache   \n",
      "1      US/Mountain        K04V      38.0972    -106.1689    Saguache   \n",
      "2      US/Mountain        K04V      38.0972    -106.1689    Saguache   \n",
      "3      US/Mountain        K04V      38.0972    -106.1689    Saguache   \n",
      "4      US/Mountain        K04V      38.0972    -106.1689    Saguache   \n",
      "...            ...         ...          ...          ...         ...   \n",
      "10577   US/Central        KAEL      43.6822     -93.3722  Albert Lea   \n",
      "10578   US/Central        KAEL      43.6822     -93.3722  Albert Lea   \n",
      "10579   US/Central        KAEL      43.6822     -93.3722  Albert Lea   \n",
      "10580   US/Central        KAEL      43.6822     -93.3722  Albert Lea   \n",
      "10581   US/Central        KAEL      43.6822     -93.3722  Albert Lea   \n",
      "\n",
      "         County State  ZipCode  \n",
      "0      Saguache    CO  81149.0  \n",
      "1      Saguache    CO  81149.0  \n",
      "2      Saguache    CO  81149.0  \n",
      "3      Saguache    CO  81149.0  \n",
      "4      Saguache    CO  81149.0  \n",
      "...         ...   ...      ...  \n",
      "10577  Freeborn    MN  56007.0  \n",
      "10578  Freeborn    MN  56007.0  \n",
      "10579  Freeborn    MN  56007.0  \n",
      "10580  Freeborn    MN  56007.0  \n",
      "10581  Freeborn    MN  56007.0  \n",
      "\n",
      "[10582 rows x 13 columns]\n"
     ]
    }
   ],
   "execution_count": 19
  },
  {
   "metadata": {},
   "cell_type": "markdown",
   "source": "# County null values\n",
   "id": "9fe3aff7eae213f8"
  },
  {
   "metadata": {
    "ExecuteTime": {
     "end_time": "2025-03-06T17:26:06.332863Z",
     "start_time": "2025-03-06T17:26:06.326001Z"
    }
   },
   "cell_type": "code",
   "source": [
    "County_index= df[df['County'].isna()].index\n",
    "print(County_index)"
   ],
   "id": "af47d1504792f2e1",
   "outputs": [
    {
     "name": "stdout",
     "output_type": "stream",
     "text": [
      "Index([ 4041,  4042,  4043,  4044,  4045,  4046,  4047,  4048,  4049,  4050,\n",
      "       ...\n",
      "        4176,  4177,  4178,  4179, 10446, 10447, 10448, 10449, 10450, 10451],\n",
      "      dtype='int64', length=145)\n"
     ]
    }
   ],
   "execution_count": 23
  },
  {
   "metadata": {
    "ExecuteTime": {
     "end_time": "2025-03-06T18:02:54.039796Z",
     "start_time": "2025-03-06T18:02:54.027884Z"
    }
   },
   "cell_type": "code",
   "source": [
    "City_index = df[df['City'].isna()].index\n",
    "print(City_index)\n"
   ],
   "id": "362533461d6095cc",
   "outputs": [
    {
     "name": "stdout",
     "output_type": "stream",
     "text": [
      "Index([], dtype='int64')\n"
     ]
    }
   ],
   "execution_count": 40
  },
  {
   "metadata": {
    "ExecuteTime": {
     "end_time": "2025-03-06T19:07:05.907120Z",
     "start_time": "2025-03-06T19:07:05.894483Z"
    }
   },
   "cell_type": "code",
   "source": [
    "Type_index = df[df['Type'].isna()].index\n",
    "print(Type_index)"
   ],
   "id": "b7e8fd96eb3b11b4",
   "outputs": [
    {
     "name": "stdout",
     "output_type": "stream",
     "text": [
      "Index([3781, 3782, 3783, 3784, 3785, 3786, 3787, 3788, 3789, 3790, 3791, 3792,\n",
      "       3793, 3794, 3795, 3796, 3797, 3798, 3799, 3800, 3801, 3802, 3803, 3804,\n",
      "       3805, 3806, 3807, 3808, 3809, 3810, 3811, 3812, 3813, 3814, 3815, 3816,\n",
      "       3817],\n",
      "      dtype='int64')\n"
     ]
    }
   ],
   "execution_count": 90
  },
  {
   "metadata": {},
   "cell_type": "markdown",
   "source": "# Eliminating NaN in Country",
   "id": "b3b2fecb577f98b"
  },
  {
   "metadata": {
    "ExecuteTime": {
     "end_time": "2025-03-06T17:55:26.845787Z",
     "start_time": "2025-03-06T17:55:26.790505Z"
    }
   },
   "cell_type": "code",
   "source": [
    "Mode = df['County'].mode()\n",
    "print(Mode)\n",
    "df['County'].fillna(Mode[0],inplace=True)\n",
    "New_df = df\n",
    "New_df['County'].isna()\n",
    "New_df"
   ],
   "id": "c77b41d49e7fa2b1",
   "outputs": [
    {
     "name": "stdout",
     "output_type": "stream",
     "text": [
      "0    Jackson\n",
      "Name: County, dtype: object\n"
     ]
    },
    {
     "data": {
      "text/plain": [
       "       Type Severity  StartTime(UTC)    EndTime(UTC)  Precipitation(in)  \\\n",
       "0      Snow    Light    1/6/16 23:14     1/7/16 0:34               0.00   \n",
       "1      Snow    Light     1/7/16 4:14     1/7/16 4:54               0.00   \n",
       "2      Snow    Light     1/7/16 5:54    1/7/16 15:34               0.03   \n",
       "3      Snow    Light     1/8/16 5:34     1/8/16 5:54               0.00   \n",
       "4      Snow    Light    1/8/16 13:54    1/8/16 15:54               0.00   \n",
       "...     ...      ...             ...             ...                ...   \n",
       "10577   Fog   Severe   12/27/21 9:55  12/27/21 12:15               0.00   \n",
       "10578  Snow    Light  12/28/21 15:55  12/28/21 19:35               0.00   \n",
       "10579  Snow    Light   12/29/21 2:35   12/29/21 2:55               0.00   \n",
       "10580  Snow    Light   12/30/21 7:55  12/30/21 10:55               0.00   \n",
       "10581   Fog   Severe   12/31/21 6:35   12/31/21 8:15               0.00   \n",
       "\n",
       "          TimeZone AirportCode  LocationLat  LocationLng        City  \\\n",
       "0      US/Mountain        K04V      38.0972    -106.1689    Saguache   \n",
       "1      US/Mountain        K04V      38.0972    -106.1689    Saguache   \n",
       "2      US/Mountain        K04V      38.0972    -106.1689    Saguache   \n",
       "3      US/Mountain        K04V      38.0972    -106.1689    Saguache   \n",
       "4      US/Mountain        K04V      38.0972    -106.1689    Saguache   \n",
       "...            ...         ...          ...          ...         ...   \n",
       "10577   US/Central        KAEL      43.6822     -93.3722  Albert Lea   \n",
       "10578   US/Central        KAEL      43.6822     -93.3722  Albert Lea   \n",
       "10579   US/Central        KAEL      43.6822     -93.3722  Albert Lea   \n",
       "10580   US/Central        KAEL      43.6822     -93.3722  Albert Lea   \n",
       "10581   US/Central        KAEL      43.6822     -93.3722  Albert Lea   \n",
       "\n",
       "         County State  ZipCode  \n",
       "0      Saguache    CO  81149.0  \n",
       "1      Saguache    CO  81149.0  \n",
       "2      Saguache    CO  81149.0  \n",
       "3      Saguache    CO  81149.0  \n",
       "4      Saguache    CO  81149.0  \n",
       "...         ...   ...      ...  \n",
       "10577  Freeborn    MN  56007.0  \n",
       "10578  Freeborn    MN  56007.0  \n",
       "10579  Freeborn    MN  56007.0  \n",
       "10580  Freeborn    MN  56007.0  \n",
       "10581  Freeborn    MN  56007.0  \n",
       "\n",
       "[10582 rows x 13 columns]"
      ],
      "text/html": [
       "<div>\n",
       "<style scoped>\n",
       "    .dataframe tbody tr th:only-of-type {\n",
       "        vertical-align: middle;\n",
       "    }\n",
       "\n",
       "    .dataframe tbody tr th {\n",
       "        vertical-align: top;\n",
       "    }\n",
       "\n",
       "    .dataframe thead th {\n",
       "        text-align: right;\n",
       "    }\n",
       "</style>\n",
       "<table border=\"1\" class=\"dataframe\">\n",
       "  <thead>\n",
       "    <tr style=\"text-align: right;\">\n",
       "      <th></th>\n",
       "      <th>Type</th>\n",
       "      <th>Severity</th>\n",
       "      <th>StartTime(UTC)</th>\n",
       "      <th>EndTime(UTC)</th>\n",
       "      <th>Precipitation(in)</th>\n",
       "      <th>TimeZone</th>\n",
       "      <th>AirportCode</th>\n",
       "      <th>LocationLat</th>\n",
       "      <th>LocationLng</th>\n",
       "      <th>City</th>\n",
       "      <th>County</th>\n",
       "      <th>State</th>\n",
       "      <th>ZipCode</th>\n",
       "    </tr>\n",
       "  </thead>\n",
       "  <tbody>\n",
       "    <tr>\n",
       "      <th>0</th>\n",
       "      <td>Snow</td>\n",
       "      <td>Light</td>\n",
       "      <td>1/6/16 23:14</td>\n",
       "      <td>1/7/16 0:34</td>\n",
       "      <td>0.00</td>\n",
       "      <td>US/Mountain</td>\n",
       "      <td>K04V</td>\n",
       "      <td>38.0972</td>\n",
       "      <td>-106.1689</td>\n",
       "      <td>Saguache</td>\n",
       "      <td>Saguache</td>\n",
       "      <td>CO</td>\n",
       "      <td>81149.0</td>\n",
       "    </tr>\n",
       "    <tr>\n",
       "      <th>1</th>\n",
       "      <td>Snow</td>\n",
       "      <td>Light</td>\n",
       "      <td>1/7/16 4:14</td>\n",
       "      <td>1/7/16 4:54</td>\n",
       "      <td>0.00</td>\n",
       "      <td>US/Mountain</td>\n",
       "      <td>K04V</td>\n",
       "      <td>38.0972</td>\n",
       "      <td>-106.1689</td>\n",
       "      <td>Saguache</td>\n",
       "      <td>Saguache</td>\n",
       "      <td>CO</td>\n",
       "      <td>81149.0</td>\n",
       "    </tr>\n",
       "    <tr>\n",
       "      <th>2</th>\n",
       "      <td>Snow</td>\n",
       "      <td>Light</td>\n",
       "      <td>1/7/16 5:54</td>\n",
       "      <td>1/7/16 15:34</td>\n",
       "      <td>0.03</td>\n",
       "      <td>US/Mountain</td>\n",
       "      <td>K04V</td>\n",
       "      <td>38.0972</td>\n",
       "      <td>-106.1689</td>\n",
       "      <td>Saguache</td>\n",
       "      <td>Saguache</td>\n",
       "      <td>CO</td>\n",
       "      <td>81149.0</td>\n",
       "    </tr>\n",
       "    <tr>\n",
       "      <th>3</th>\n",
       "      <td>Snow</td>\n",
       "      <td>Light</td>\n",
       "      <td>1/8/16 5:34</td>\n",
       "      <td>1/8/16 5:54</td>\n",
       "      <td>0.00</td>\n",
       "      <td>US/Mountain</td>\n",
       "      <td>K04V</td>\n",
       "      <td>38.0972</td>\n",
       "      <td>-106.1689</td>\n",
       "      <td>Saguache</td>\n",
       "      <td>Saguache</td>\n",
       "      <td>CO</td>\n",
       "      <td>81149.0</td>\n",
       "    </tr>\n",
       "    <tr>\n",
       "      <th>4</th>\n",
       "      <td>Snow</td>\n",
       "      <td>Light</td>\n",
       "      <td>1/8/16 13:54</td>\n",
       "      <td>1/8/16 15:54</td>\n",
       "      <td>0.00</td>\n",
       "      <td>US/Mountain</td>\n",
       "      <td>K04V</td>\n",
       "      <td>38.0972</td>\n",
       "      <td>-106.1689</td>\n",
       "      <td>Saguache</td>\n",
       "      <td>Saguache</td>\n",
       "      <td>CO</td>\n",
       "      <td>81149.0</td>\n",
       "    </tr>\n",
       "    <tr>\n",
       "      <th>...</th>\n",
       "      <td>...</td>\n",
       "      <td>...</td>\n",
       "      <td>...</td>\n",
       "      <td>...</td>\n",
       "      <td>...</td>\n",
       "      <td>...</td>\n",
       "      <td>...</td>\n",
       "      <td>...</td>\n",
       "      <td>...</td>\n",
       "      <td>...</td>\n",
       "      <td>...</td>\n",
       "      <td>...</td>\n",
       "      <td>...</td>\n",
       "    </tr>\n",
       "    <tr>\n",
       "      <th>10577</th>\n",
       "      <td>Fog</td>\n",
       "      <td>Severe</td>\n",
       "      <td>12/27/21 9:55</td>\n",
       "      <td>12/27/21 12:15</td>\n",
       "      <td>0.00</td>\n",
       "      <td>US/Central</td>\n",
       "      <td>KAEL</td>\n",
       "      <td>43.6822</td>\n",
       "      <td>-93.3722</td>\n",
       "      <td>Albert Lea</td>\n",
       "      <td>Freeborn</td>\n",
       "      <td>MN</td>\n",
       "      <td>56007.0</td>\n",
       "    </tr>\n",
       "    <tr>\n",
       "      <th>10578</th>\n",
       "      <td>Snow</td>\n",
       "      <td>Light</td>\n",
       "      <td>12/28/21 15:55</td>\n",
       "      <td>12/28/21 19:35</td>\n",
       "      <td>0.00</td>\n",
       "      <td>US/Central</td>\n",
       "      <td>KAEL</td>\n",
       "      <td>43.6822</td>\n",
       "      <td>-93.3722</td>\n",
       "      <td>Albert Lea</td>\n",
       "      <td>Freeborn</td>\n",
       "      <td>MN</td>\n",
       "      <td>56007.0</td>\n",
       "    </tr>\n",
       "    <tr>\n",
       "      <th>10579</th>\n",
       "      <td>Snow</td>\n",
       "      <td>Light</td>\n",
       "      <td>12/29/21 2:35</td>\n",
       "      <td>12/29/21 2:55</td>\n",
       "      <td>0.00</td>\n",
       "      <td>US/Central</td>\n",
       "      <td>KAEL</td>\n",
       "      <td>43.6822</td>\n",
       "      <td>-93.3722</td>\n",
       "      <td>Albert Lea</td>\n",
       "      <td>Freeborn</td>\n",
       "      <td>MN</td>\n",
       "      <td>56007.0</td>\n",
       "    </tr>\n",
       "    <tr>\n",
       "      <th>10580</th>\n",
       "      <td>Snow</td>\n",
       "      <td>Light</td>\n",
       "      <td>12/30/21 7:55</td>\n",
       "      <td>12/30/21 10:55</td>\n",
       "      <td>0.00</td>\n",
       "      <td>US/Central</td>\n",
       "      <td>KAEL</td>\n",
       "      <td>43.6822</td>\n",
       "      <td>-93.3722</td>\n",
       "      <td>Albert Lea</td>\n",
       "      <td>Freeborn</td>\n",
       "      <td>MN</td>\n",
       "      <td>56007.0</td>\n",
       "    </tr>\n",
       "    <tr>\n",
       "      <th>10581</th>\n",
       "      <td>Fog</td>\n",
       "      <td>Severe</td>\n",
       "      <td>12/31/21 6:35</td>\n",
       "      <td>12/31/21 8:15</td>\n",
       "      <td>0.00</td>\n",
       "      <td>US/Central</td>\n",
       "      <td>KAEL</td>\n",
       "      <td>43.6822</td>\n",
       "      <td>-93.3722</td>\n",
       "      <td>Albert Lea</td>\n",
       "      <td>Freeborn</td>\n",
       "      <td>MN</td>\n",
       "      <td>56007.0</td>\n",
       "    </tr>\n",
       "  </tbody>\n",
       "</table>\n",
       "<p>10582 rows × 13 columns</p>\n",
       "</div>"
      ]
     },
     "execution_count": 31,
     "metadata": {},
     "output_type": "execute_result"
    }
   ],
   "execution_count": 31
  },
  {
   "metadata": {},
   "cell_type": "markdown",
   "source": "# Filling the City",
   "id": "1aa7b6106453182f"
  },
  {
   "metadata": {
    "ExecuteTime": {
     "end_time": "2025-03-06T17:58:55.919812Z",
     "start_time": "2025-03-06T17:58:55.870278Z"
    }
   },
   "cell_type": "code",
   "source": [
    "Mode = df['City'].mode()\n",
    "print(Mode)\n",
    "df['City'].fillna(Mode[0])\n",
    "New_df = df\n",
    "New_df"
   ],
   "id": "f649ffb420bbdc46",
   "outputs": [
    {
     "name": "stdout",
     "output_type": "stream",
     "text": [
      "0    Altus\n",
      "Name: City, dtype: object\n"
     ]
    },
    {
     "data": {
      "text/plain": [
       "       Type Severity  StartTime(UTC)    EndTime(UTC)  Precipitation(in)  \\\n",
       "0      Snow    Light    1/6/16 23:14     1/7/16 0:34               0.00   \n",
       "1      Snow    Light     1/7/16 4:14     1/7/16 4:54               0.00   \n",
       "2      Snow    Light     1/7/16 5:54    1/7/16 15:34               0.03   \n",
       "3      Snow    Light     1/8/16 5:34     1/8/16 5:54               0.00   \n",
       "4      Snow    Light    1/8/16 13:54    1/8/16 15:54               0.00   \n",
       "...     ...      ...             ...             ...                ...   \n",
       "10577   Fog   Severe   12/27/21 9:55  12/27/21 12:15               0.00   \n",
       "10578  Snow    Light  12/28/21 15:55  12/28/21 19:35               0.00   \n",
       "10579  Snow    Light   12/29/21 2:35   12/29/21 2:55               0.00   \n",
       "10580  Snow    Light   12/30/21 7:55  12/30/21 10:55               0.00   \n",
       "10581   Fog   Severe   12/31/21 6:35   12/31/21 8:15               0.00   \n",
       "\n",
       "          TimeZone AirportCode  LocationLat  LocationLng        City  \\\n",
       "0      US/Mountain        K04V      38.0972    -106.1689    Saguache   \n",
       "1      US/Mountain        K04V      38.0972    -106.1689    Saguache   \n",
       "2      US/Mountain        K04V      38.0972    -106.1689    Saguache   \n",
       "3      US/Mountain        K04V      38.0972    -106.1689    Saguache   \n",
       "4      US/Mountain        K04V      38.0972    -106.1689    Saguache   \n",
       "...            ...         ...          ...          ...         ...   \n",
       "10577   US/Central        KAEL      43.6822     -93.3722  Albert Lea   \n",
       "10578   US/Central        KAEL      43.6822     -93.3722  Albert Lea   \n",
       "10579   US/Central        KAEL      43.6822     -93.3722  Albert Lea   \n",
       "10580   US/Central        KAEL      43.6822     -93.3722  Albert Lea   \n",
       "10581   US/Central        KAEL      43.6822     -93.3722  Albert Lea   \n",
       "\n",
       "         County State  ZipCode  \n",
       "0      Saguache    CO  81149.0  \n",
       "1      Saguache    CO  81149.0  \n",
       "2      Saguache    CO  81149.0  \n",
       "3      Saguache    CO  81149.0  \n",
       "4      Saguache    CO  81149.0  \n",
       "...         ...   ...      ...  \n",
       "10577  Freeborn    MN  56007.0  \n",
       "10578  Freeborn    MN  56007.0  \n",
       "10579  Freeborn    MN  56007.0  \n",
       "10580  Freeborn    MN  56007.0  \n",
       "10581  Freeborn    MN  56007.0  \n",
       "\n",
       "[10582 rows x 13 columns]"
      ],
      "text/html": [
       "<div>\n",
       "<style scoped>\n",
       "    .dataframe tbody tr th:only-of-type {\n",
       "        vertical-align: middle;\n",
       "    }\n",
       "\n",
       "    .dataframe tbody tr th {\n",
       "        vertical-align: top;\n",
       "    }\n",
       "\n",
       "    .dataframe thead th {\n",
       "        text-align: right;\n",
       "    }\n",
       "</style>\n",
       "<table border=\"1\" class=\"dataframe\">\n",
       "  <thead>\n",
       "    <tr style=\"text-align: right;\">\n",
       "      <th></th>\n",
       "      <th>Type</th>\n",
       "      <th>Severity</th>\n",
       "      <th>StartTime(UTC)</th>\n",
       "      <th>EndTime(UTC)</th>\n",
       "      <th>Precipitation(in)</th>\n",
       "      <th>TimeZone</th>\n",
       "      <th>AirportCode</th>\n",
       "      <th>LocationLat</th>\n",
       "      <th>LocationLng</th>\n",
       "      <th>City</th>\n",
       "      <th>County</th>\n",
       "      <th>State</th>\n",
       "      <th>ZipCode</th>\n",
       "    </tr>\n",
       "  </thead>\n",
       "  <tbody>\n",
       "    <tr>\n",
       "      <th>0</th>\n",
       "      <td>Snow</td>\n",
       "      <td>Light</td>\n",
       "      <td>1/6/16 23:14</td>\n",
       "      <td>1/7/16 0:34</td>\n",
       "      <td>0.00</td>\n",
       "      <td>US/Mountain</td>\n",
       "      <td>K04V</td>\n",
       "      <td>38.0972</td>\n",
       "      <td>-106.1689</td>\n",
       "      <td>Saguache</td>\n",
       "      <td>Saguache</td>\n",
       "      <td>CO</td>\n",
       "      <td>81149.0</td>\n",
       "    </tr>\n",
       "    <tr>\n",
       "      <th>1</th>\n",
       "      <td>Snow</td>\n",
       "      <td>Light</td>\n",
       "      <td>1/7/16 4:14</td>\n",
       "      <td>1/7/16 4:54</td>\n",
       "      <td>0.00</td>\n",
       "      <td>US/Mountain</td>\n",
       "      <td>K04V</td>\n",
       "      <td>38.0972</td>\n",
       "      <td>-106.1689</td>\n",
       "      <td>Saguache</td>\n",
       "      <td>Saguache</td>\n",
       "      <td>CO</td>\n",
       "      <td>81149.0</td>\n",
       "    </tr>\n",
       "    <tr>\n",
       "      <th>2</th>\n",
       "      <td>Snow</td>\n",
       "      <td>Light</td>\n",
       "      <td>1/7/16 5:54</td>\n",
       "      <td>1/7/16 15:34</td>\n",
       "      <td>0.03</td>\n",
       "      <td>US/Mountain</td>\n",
       "      <td>K04V</td>\n",
       "      <td>38.0972</td>\n",
       "      <td>-106.1689</td>\n",
       "      <td>Saguache</td>\n",
       "      <td>Saguache</td>\n",
       "      <td>CO</td>\n",
       "      <td>81149.0</td>\n",
       "    </tr>\n",
       "    <tr>\n",
       "      <th>3</th>\n",
       "      <td>Snow</td>\n",
       "      <td>Light</td>\n",
       "      <td>1/8/16 5:34</td>\n",
       "      <td>1/8/16 5:54</td>\n",
       "      <td>0.00</td>\n",
       "      <td>US/Mountain</td>\n",
       "      <td>K04V</td>\n",
       "      <td>38.0972</td>\n",
       "      <td>-106.1689</td>\n",
       "      <td>Saguache</td>\n",
       "      <td>Saguache</td>\n",
       "      <td>CO</td>\n",
       "      <td>81149.0</td>\n",
       "    </tr>\n",
       "    <tr>\n",
       "      <th>4</th>\n",
       "      <td>Snow</td>\n",
       "      <td>Light</td>\n",
       "      <td>1/8/16 13:54</td>\n",
       "      <td>1/8/16 15:54</td>\n",
       "      <td>0.00</td>\n",
       "      <td>US/Mountain</td>\n",
       "      <td>K04V</td>\n",
       "      <td>38.0972</td>\n",
       "      <td>-106.1689</td>\n",
       "      <td>Saguache</td>\n",
       "      <td>Saguache</td>\n",
       "      <td>CO</td>\n",
       "      <td>81149.0</td>\n",
       "    </tr>\n",
       "    <tr>\n",
       "      <th>...</th>\n",
       "      <td>...</td>\n",
       "      <td>...</td>\n",
       "      <td>...</td>\n",
       "      <td>...</td>\n",
       "      <td>...</td>\n",
       "      <td>...</td>\n",
       "      <td>...</td>\n",
       "      <td>...</td>\n",
       "      <td>...</td>\n",
       "      <td>...</td>\n",
       "      <td>...</td>\n",
       "      <td>...</td>\n",
       "      <td>...</td>\n",
       "    </tr>\n",
       "    <tr>\n",
       "      <th>10577</th>\n",
       "      <td>Fog</td>\n",
       "      <td>Severe</td>\n",
       "      <td>12/27/21 9:55</td>\n",
       "      <td>12/27/21 12:15</td>\n",
       "      <td>0.00</td>\n",
       "      <td>US/Central</td>\n",
       "      <td>KAEL</td>\n",
       "      <td>43.6822</td>\n",
       "      <td>-93.3722</td>\n",
       "      <td>Albert Lea</td>\n",
       "      <td>Freeborn</td>\n",
       "      <td>MN</td>\n",
       "      <td>56007.0</td>\n",
       "    </tr>\n",
       "    <tr>\n",
       "      <th>10578</th>\n",
       "      <td>Snow</td>\n",
       "      <td>Light</td>\n",
       "      <td>12/28/21 15:55</td>\n",
       "      <td>12/28/21 19:35</td>\n",
       "      <td>0.00</td>\n",
       "      <td>US/Central</td>\n",
       "      <td>KAEL</td>\n",
       "      <td>43.6822</td>\n",
       "      <td>-93.3722</td>\n",
       "      <td>Albert Lea</td>\n",
       "      <td>Freeborn</td>\n",
       "      <td>MN</td>\n",
       "      <td>56007.0</td>\n",
       "    </tr>\n",
       "    <tr>\n",
       "      <th>10579</th>\n",
       "      <td>Snow</td>\n",
       "      <td>Light</td>\n",
       "      <td>12/29/21 2:35</td>\n",
       "      <td>12/29/21 2:55</td>\n",
       "      <td>0.00</td>\n",
       "      <td>US/Central</td>\n",
       "      <td>KAEL</td>\n",
       "      <td>43.6822</td>\n",
       "      <td>-93.3722</td>\n",
       "      <td>Albert Lea</td>\n",
       "      <td>Freeborn</td>\n",
       "      <td>MN</td>\n",
       "      <td>56007.0</td>\n",
       "    </tr>\n",
       "    <tr>\n",
       "      <th>10580</th>\n",
       "      <td>Snow</td>\n",
       "      <td>Light</td>\n",
       "      <td>12/30/21 7:55</td>\n",
       "      <td>12/30/21 10:55</td>\n",
       "      <td>0.00</td>\n",
       "      <td>US/Central</td>\n",
       "      <td>KAEL</td>\n",
       "      <td>43.6822</td>\n",
       "      <td>-93.3722</td>\n",
       "      <td>Albert Lea</td>\n",
       "      <td>Freeborn</td>\n",
       "      <td>MN</td>\n",
       "      <td>56007.0</td>\n",
       "    </tr>\n",
       "    <tr>\n",
       "      <th>10581</th>\n",
       "      <td>Fog</td>\n",
       "      <td>Severe</td>\n",
       "      <td>12/31/21 6:35</td>\n",
       "      <td>12/31/21 8:15</td>\n",
       "      <td>0.00</td>\n",
       "      <td>US/Central</td>\n",
       "      <td>KAEL</td>\n",
       "      <td>43.6822</td>\n",
       "      <td>-93.3722</td>\n",
       "      <td>Albert Lea</td>\n",
       "      <td>Freeborn</td>\n",
       "      <td>MN</td>\n",
       "      <td>56007.0</td>\n",
       "    </tr>\n",
       "  </tbody>\n",
       "</table>\n",
       "<p>10582 rows × 13 columns</p>\n",
       "</div>"
      ]
     },
     "execution_count": 33,
     "metadata": {},
     "output_type": "execute_result"
    }
   ],
   "execution_count": 33
  },
  {
   "metadata": {},
   "cell_type": "markdown",
   "source": "# Type values filling",
   "id": "e898f6d56bafd78f"
  },
  {
   "metadata": {
    "ExecuteTime": {
     "end_time": "2025-03-06T18:34:06.310857Z",
     "start_time": "2025-03-06T18:34:06.295589Z"
    }
   },
   "cell_type": "code",
   "source": [
    "T_mode=df['Type'].mode()\n",
    "print(T_mode)"
   ],
   "id": "9636ce754bdebc03",
   "outputs": [
    {
     "name": "stdout",
     "output_type": "stream",
     "text": [
      "0    Rain\n",
      "Name: Type, dtype: object\n"
     ]
    }
   ],
   "execution_count": 59
  },
  {
   "metadata": {
    "ExecuteTime": {
     "end_time": "2025-03-06T18:06:27.296264Z",
     "start_time": "2025-03-06T18:06:27.273405Z"
    }
   },
   "cell_type": "code",
   "source": [
    "df['Type'].fillna(T_mode[0])\n",
    "New_df = df\n"
   ],
   "id": "294fdf246f5e33a",
   "outputs": [
    {
     "data": {
      "text/plain": [
       "0        False\n",
       "1        False\n",
       "2        False\n",
       "3        False\n",
       "4        False\n",
       "         ...  \n",
       "10577    False\n",
       "10578    False\n",
       "10579    False\n",
       "10580    False\n",
       "10581    False\n",
       "Name: Type, Length: 10582, dtype: bool"
      ]
     },
     "execution_count": 47,
     "metadata": {},
     "output_type": "execute_result"
    }
   ],
   "execution_count": 47
  },
  {
   "metadata": {},
   "cell_type": "markdown",
   "source": "# Filling the State and ZipCode Column",
   "id": "b0e1ac68444b09dd"
  },
  {
   "metadata": {
    "ExecuteTime": {
     "end_time": "2025-03-06T18:20:49.428613Z",
     "start_time": "2025-03-06T18:20:49.380480Z"
    }
   },
   "cell_type": "code",
   "source": [
    "df.loc[(df['City'] == 'Altus') & (df['County'] == 'Jackson'), ['State', 'ZipCode']] = ['OK', 73521]\n",
    "\n",
    "print(df)\n",
    "df['Zipcode'].drop()\n",
    "print(df)"
   ],
   "id": "6ab661509cf8c9d4",
   "outputs": [
    {
     "name": "stdout",
     "output_type": "stream",
     "text": [
      "       Type Severity  StartTime(UTC)    EndTime(UTC)  Precipitation(in)  \\\n",
      "0      Snow    Light    1/6/16 23:14     1/7/16 0:34               0.00   \n",
      "1      Snow    Light     1/7/16 4:14     1/7/16 4:54               0.00   \n",
      "2      Snow    Light     1/7/16 5:54    1/7/16 15:34               0.03   \n",
      "3      Snow    Light     1/8/16 5:34     1/8/16 5:54               0.00   \n",
      "4      Snow    Light    1/8/16 13:54    1/8/16 15:54               0.00   \n",
      "...     ...      ...             ...             ...                ...   \n",
      "10577   Fog   Severe   12/27/21 9:55  12/27/21 12:15               0.00   \n",
      "10578  Snow    Light  12/28/21 15:55  12/28/21 19:35               0.00   \n",
      "10579  Snow    Light   12/29/21 2:35   12/29/21 2:55               0.00   \n",
      "10580  Snow    Light   12/30/21 7:55  12/30/21 10:55               0.00   \n",
      "10581   Fog   Severe   12/31/21 6:35   12/31/21 8:15               0.00   \n",
      "\n",
      "          TimeZone AirportCode  LocationLat  LocationLng        City  \\\n",
      "0      US/Mountain        K04V      38.0972    -106.1689    Saguache   \n",
      "1      US/Mountain        K04V      38.0972    -106.1689    Saguache   \n",
      "2      US/Mountain        K04V      38.0972    -106.1689    Saguache   \n",
      "3      US/Mountain        K04V      38.0972    -106.1689    Saguache   \n",
      "4      US/Mountain        K04V      38.0972    -106.1689    Saguache   \n",
      "...            ...         ...          ...          ...         ...   \n",
      "10577   US/Central        KAEL      43.6822     -93.3722  Albert Lea   \n",
      "10578   US/Central        KAEL      43.6822     -93.3722  Albert Lea   \n",
      "10579   US/Central        KAEL      43.6822     -93.3722  Albert Lea   \n",
      "10580   US/Central        KAEL      43.6822     -93.3722  Albert Lea   \n",
      "10581   US/Central        KAEL      43.6822     -93.3722  Albert Lea   \n",
      "\n",
      "         County State  ZipCode  Zipcode  \n",
      "0      Saguache    CO  81149.0      NaN  \n",
      "1      Saguache    CO  81149.0      NaN  \n",
      "2      Saguache    CO  81149.0      NaN  \n",
      "3      Saguache    CO  81149.0      NaN  \n",
      "4      Saguache    CO  81149.0      NaN  \n",
      "...         ...   ...      ...      ...  \n",
      "10577  Freeborn    MN  56007.0      NaN  \n",
      "10578  Freeborn    MN  56007.0      NaN  \n",
      "10579  Freeborn    MN  56007.0      NaN  \n",
      "10580  Freeborn    MN  56007.0      NaN  \n",
      "10581  Freeborn    MN  56007.0      NaN  \n",
      "\n",
      "[10582 rows x 14 columns]\n"
     ]
    },
    {
     "ename": "ValueError",
     "evalue": "Need to specify at least one of 'labels', 'index' or 'columns'",
     "output_type": "error",
     "traceback": [
      "\u001B[1;31m---------------------------------------------------------------------------\u001B[0m",
      "\u001B[1;31mValueError\u001B[0m                                Traceback (most recent call last)",
      "\u001B[1;32m~\\AppData\\Local\\Temp\\ipykernel_28036\\3712251450.py\u001B[0m in \u001B[0;36m?\u001B[1;34m()\u001B[0m\n\u001B[0;32m      1\u001B[0m \u001B[0mdf\u001B[0m\u001B[1;33m.\u001B[0m\u001B[0mloc\u001B[0m\u001B[1;33m[\u001B[0m\u001B[1;33m(\u001B[0m\u001B[0mdf\u001B[0m\u001B[1;33m[\u001B[0m\u001B[1;34m'City'\u001B[0m\u001B[1;33m]\u001B[0m \u001B[1;33m==\u001B[0m \u001B[1;34m'Altus'\u001B[0m\u001B[1;33m)\u001B[0m \u001B[1;33m&\u001B[0m \u001B[1;33m(\u001B[0m\u001B[0mdf\u001B[0m\u001B[1;33m[\u001B[0m\u001B[1;34m'County'\u001B[0m\u001B[1;33m]\u001B[0m \u001B[1;33m==\u001B[0m \u001B[1;34m'Jackson'\u001B[0m\u001B[1;33m)\u001B[0m\u001B[1;33m,\u001B[0m \u001B[1;33m[\u001B[0m\u001B[1;34m'State'\u001B[0m\u001B[1;33m,\u001B[0m \u001B[1;34m'ZipCode'\u001B[0m\u001B[1;33m]\u001B[0m\u001B[1;33m]\u001B[0m \u001B[1;33m=\u001B[0m \u001B[1;33m[\u001B[0m\u001B[1;34m'OK'\u001B[0m\u001B[1;33m,\u001B[0m \u001B[1;36m73521\u001B[0m\u001B[1;33m]\u001B[0m\u001B[1;33m\u001B[0m\u001B[1;33m\u001B[0m\u001B[0m\n\u001B[0;32m      2\u001B[0m \u001B[1;33m\u001B[0m\u001B[0m\n\u001B[0;32m      3\u001B[0m \u001B[0mprint\u001B[0m\u001B[1;33m(\u001B[0m\u001B[0mdf\u001B[0m\u001B[1;33m)\u001B[0m\u001B[1;33m\u001B[0m\u001B[1;33m\u001B[0m\u001B[0m\n\u001B[1;32m----> 4\u001B[1;33m \u001B[0mdf\u001B[0m\u001B[1;33m[\u001B[0m\u001B[1;34m'Zipcode'\u001B[0m\u001B[1;33m]\u001B[0m\u001B[1;33m.\u001B[0m\u001B[0mdrop\u001B[0m\u001B[1;33m(\u001B[0m\u001B[1;33m)\u001B[0m\u001B[1;33m\u001B[0m\u001B[1;33m\u001B[0m\u001B[0m\n\u001B[0m\u001B[0;32m      5\u001B[0m \u001B[0mprint\u001B[0m\u001B[1;33m(\u001B[0m\u001B[0mdf\u001B[0m\u001B[1;33m)\u001B[0m\u001B[1;33m\u001B[0m\u001B[1;33m\u001B[0m\u001B[0m\n",
      "\u001B[1;32m~\\miniconda3\\Lib\\site-packages\\pandas\\core\\series.py\u001B[0m in \u001B[0;36m?\u001B[1;34m(self, labels, axis, index, columns, level, inplace, errors)\u001B[0m\n\u001B[0;32m   5352\u001B[0m         \u001B[0mfalcon\u001B[0m  \u001B[0mspeed\u001B[0m     \u001B[1;36m320.0\u001B[0m\u001B[1;33m\u001B[0m\u001B[1;33m\u001B[0m\u001B[0m\n\u001B[0;32m   5353\u001B[0m                 \u001B[0mlength\u001B[0m      \u001B[1;36m0.3\u001B[0m\u001B[1;33m\u001B[0m\u001B[1;33m\u001B[0m\u001B[0m\n\u001B[0;32m   5354\u001B[0m         \u001B[0mdtype\u001B[0m\u001B[1;33m:\u001B[0m \u001B[0mfloat64\u001B[0m\u001B[1;33m\u001B[0m\u001B[1;33m\u001B[0m\u001B[0m\n\u001B[0;32m   5355\u001B[0m         \"\"\"\n\u001B[1;32m-> 5356\u001B[1;33m         return super().drop(\n\u001B[0m\u001B[0;32m   5357\u001B[0m             \u001B[0mlabels\u001B[0m\u001B[1;33m=\u001B[0m\u001B[0mlabels\u001B[0m\u001B[1;33m,\u001B[0m\u001B[1;33m\u001B[0m\u001B[1;33m\u001B[0m\u001B[0m\n\u001B[0;32m   5358\u001B[0m             \u001B[0maxis\u001B[0m\u001B[1;33m=\u001B[0m\u001B[0maxis\u001B[0m\u001B[1;33m,\u001B[0m\u001B[1;33m\u001B[0m\u001B[1;33m\u001B[0m\u001B[0m\n\u001B[0;32m   5359\u001B[0m             \u001B[0mindex\u001B[0m\u001B[1;33m=\u001B[0m\u001B[0mindex\u001B[0m\u001B[1;33m,\u001B[0m\u001B[1;33m\u001B[0m\u001B[1;33m\u001B[0m\u001B[0m\n",
      "\u001B[1;32m~\\miniconda3\\Lib\\site-packages\\pandas\\core\\generic.py\u001B[0m in \u001B[0;36m?\u001B[1;34m(self, labels, axis, index, columns, level, inplace, errors)\u001B[0m\n\u001B[0;32m   4776\u001B[0m             \u001B[0maxes\u001B[0m \u001B[1;33m=\u001B[0m \u001B[1;33m{\u001B[0m\u001B[1;34m\"index\"\u001B[0m\u001B[1;33m:\u001B[0m \u001B[0mindex\u001B[0m\u001B[1;33m}\u001B[0m\u001B[1;33m\u001B[0m\u001B[1;33m\u001B[0m\u001B[0m\n\u001B[0;32m   4777\u001B[0m             \u001B[1;32mif\u001B[0m \u001B[0mself\u001B[0m\u001B[1;33m.\u001B[0m\u001B[0mndim\u001B[0m \u001B[1;33m==\u001B[0m \u001B[1;36m2\u001B[0m\u001B[1;33m:\u001B[0m\u001B[1;33m\u001B[0m\u001B[1;33m\u001B[0m\u001B[0m\n\u001B[0;32m   4778\u001B[0m                 \u001B[0maxes\u001B[0m\u001B[1;33m[\u001B[0m\u001B[1;34m\"columns\"\u001B[0m\u001B[1;33m]\u001B[0m \u001B[1;33m=\u001B[0m \u001B[0mcolumns\u001B[0m\u001B[1;33m\u001B[0m\u001B[1;33m\u001B[0m\u001B[0m\n\u001B[0;32m   4779\u001B[0m         \u001B[1;32melse\u001B[0m\u001B[1;33m:\u001B[0m\u001B[1;33m\u001B[0m\u001B[1;33m\u001B[0m\u001B[0m\n\u001B[1;32m-> 4780\u001B[1;33m             raise ValueError(\n\u001B[0m\u001B[0;32m   4781\u001B[0m                 \u001B[1;34m\"Need to specify at least one of 'labels', 'index' or 'columns'\"\u001B[0m\u001B[1;33m\u001B[0m\u001B[1;33m\u001B[0m\u001B[0m\n\u001B[0;32m   4782\u001B[0m             \u001B[1;33m)\u001B[0m\u001B[1;33m\u001B[0m\u001B[1;33m\u001B[0m\u001B[0m\n\u001B[0;32m   4783\u001B[0m \u001B[1;33m\u001B[0m\u001B[0m\n",
      "\u001B[1;31mValueError\u001B[0m: Need to specify at least one of 'labels', 'index' or 'columns'"
     ]
    }
   ],
   "execution_count": 54
  },
  {
   "metadata": {},
   "cell_type": "markdown",
   "source": "# droping extra Zipcode column",
   "id": "2b7b48671ce12456"
  },
  {
   "metadata": {
    "ExecuteTime": {
     "end_time": "2025-03-06T18:22:23.795963Z",
     "start_time": "2025-03-06T18:22:23.780601Z"
    }
   },
   "cell_type": "code",
   "source": "df.drop(columns=['Zipcode'], inplace=True)\n",
   "id": "da77cbcde043a0bb",
   "outputs": [],
   "execution_count": 55
  },
  {
   "metadata": {
    "ExecuteTime": {
     "end_time": "2025-03-06T18:22:50.063019Z",
     "start_time": "2025-03-06T18:22:50.024874Z"
    }
   },
   "cell_type": "code",
   "source": "New_df= df",
   "id": "751c2004766d9c02",
   "outputs": [
    {
     "data": {
      "text/plain": [
       "       Type Severity  StartTime(UTC)    EndTime(UTC)  Precipitation(in)  \\\n",
       "0      Snow    Light    1/6/16 23:14     1/7/16 0:34               0.00   \n",
       "1      Snow    Light     1/7/16 4:14     1/7/16 4:54               0.00   \n",
       "2      Snow    Light     1/7/16 5:54    1/7/16 15:34               0.03   \n",
       "3      Snow    Light     1/8/16 5:34     1/8/16 5:54               0.00   \n",
       "4      Snow    Light    1/8/16 13:54    1/8/16 15:54               0.00   \n",
       "...     ...      ...             ...             ...                ...   \n",
       "10577   Fog   Severe   12/27/21 9:55  12/27/21 12:15               0.00   \n",
       "10578  Snow    Light  12/28/21 15:55  12/28/21 19:35               0.00   \n",
       "10579  Snow    Light   12/29/21 2:35   12/29/21 2:55               0.00   \n",
       "10580  Snow    Light   12/30/21 7:55  12/30/21 10:55               0.00   \n",
       "10581   Fog   Severe   12/31/21 6:35   12/31/21 8:15               0.00   \n",
       "\n",
       "          TimeZone AirportCode  LocationLat  LocationLng        City  \\\n",
       "0      US/Mountain        K04V      38.0972    -106.1689    Saguache   \n",
       "1      US/Mountain        K04V      38.0972    -106.1689    Saguache   \n",
       "2      US/Mountain        K04V      38.0972    -106.1689    Saguache   \n",
       "3      US/Mountain        K04V      38.0972    -106.1689    Saguache   \n",
       "4      US/Mountain        K04V      38.0972    -106.1689    Saguache   \n",
       "...            ...         ...          ...          ...         ...   \n",
       "10577   US/Central        KAEL      43.6822     -93.3722  Albert Lea   \n",
       "10578   US/Central        KAEL      43.6822     -93.3722  Albert Lea   \n",
       "10579   US/Central        KAEL      43.6822     -93.3722  Albert Lea   \n",
       "10580   US/Central        KAEL      43.6822     -93.3722  Albert Lea   \n",
       "10581   US/Central        KAEL      43.6822     -93.3722  Albert Lea   \n",
       "\n",
       "         County State  ZipCode  \n",
       "0      Saguache    CO  81149.0  \n",
       "1      Saguache    CO  81149.0  \n",
       "2      Saguache    CO  81149.0  \n",
       "3      Saguache    CO  81149.0  \n",
       "4      Saguache    CO  81149.0  \n",
       "...         ...   ...      ...  \n",
       "10577  Freeborn    MN  56007.0  \n",
       "10578  Freeborn    MN  56007.0  \n",
       "10579  Freeborn    MN  56007.0  \n",
       "10580  Freeborn    MN  56007.0  \n",
       "10581  Freeborn    MN  56007.0  \n",
       "\n",
       "[10582 rows x 13 columns]"
      ],
      "text/html": [
       "<div>\n",
       "<style scoped>\n",
       "    .dataframe tbody tr th:only-of-type {\n",
       "        vertical-align: middle;\n",
       "    }\n",
       "\n",
       "    .dataframe tbody tr th {\n",
       "        vertical-align: top;\n",
       "    }\n",
       "\n",
       "    .dataframe thead th {\n",
       "        text-align: right;\n",
       "    }\n",
       "</style>\n",
       "<table border=\"1\" class=\"dataframe\">\n",
       "  <thead>\n",
       "    <tr style=\"text-align: right;\">\n",
       "      <th></th>\n",
       "      <th>Type</th>\n",
       "      <th>Severity</th>\n",
       "      <th>StartTime(UTC)</th>\n",
       "      <th>EndTime(UTC)</th>\n",
       "      <th>Precipitation(in)</th>\n",
       "      <th>TimeZone</th>\n",
       "      <th>AirportCode</th>\n",
       "      <th>LocationLat</th>\n",
       "      <th>LocationLng</th>\n",
       "      <th>City</th>\n",
       "      <th>County</th>\n",
       "      <th>State</th>\n",
       "      <th>ZipCode</th>\n",
       "    </tr>\n",
       "  </thead>\n",
       "  <tbody>\n",
       "    <tr>\n",
       "      <th>0</th>\n",
       "      <td>Snow</td>\n",
       "      <td>Light</td>\n",
       "      <td>1/6/16 23:14</td>\n",
       "      <td>1/7/16 0:34</td>\n",
       "      <td>0.00</td>\n",
       "      <td>US/Mountain</td>\n",
       "      <td>K04V</td>\n",
       "      <td>38.0972</td>\n",
       "      <td>-106.1689</td>\n",
       "      <td>Saguache</td>\n",
       "      <td>Saguache</td>\n",
       "      <td>CO</td>\n",
       "      <td>81149.0</td>\n",
       "    </tr>\n",
       "    <tr>\n",
       "      <th>1</th>\n",
       "      <td>Snow</td>\n",
       "      <td>Light</td>\n",
       "      <td>1/7/16 4:14</td>\n",
       "      <td>1/7/16 4:54</td>\n",
       "      <td>0.00</td>\n",
       "      <td>US/Mountain</td>\n",
       "      <td>K04V</td>\n",
       "      <td>38.0972</td>\n",
       "      <td>-106.1689</td>\n",
       "      <td>Saguache</td>\n",
       "      <td>Saguache</td>\n",
       "      <td>CO</td>\n",
       "      <td>81149.0</td>\n",
       "    </tr>\n",
       "    <tr>\n",
       "      <th>2</th>\n",
       "      <td>Snow</td>\n",
       "      <td>Light</td>\n",
       "      <td>1/7/16 5:54</td>\n",
       "      <td>1/7/16 15:34</td>\n",
       "      <td>0.03</td>\n",
       "      <td>US/Mountain</td>\n",
       "      <td>K04V</td>\n",
       "      <td>38.0972</td>\n",
       "      <td>-106.1689</td>\n",
       "      <td>Saguache</td>\n",
       "      <td>Saguache</td>\n",
       "      <td>CO</td>\n",
       "      <td>81149.0</td>\n",
       "    </tr>\n",
       "    <tr>\n",
       "      <th>3</th>\n",
       "      <td>Snow</td>\n",
       "      <td>Light</td>\n",
       "      <td>1/8/16 5:34</td>\n",
       "      <td>1/8/16 5:54</td>\n",
       "      <td>0.00</td>\n",
       "      <td>US/Mountain</td>\n",
       "      <td>K04V</td>\n",
       "      <td>38.0972</td>\n",
       "      <td>-106.1689</td>\n",
       "      <td>Saguache</td>\n",
       "      <td>Saguache</td>\n",
       "      <td>CO</td>\n",
       "      <td>81149.0</td>\n",
       "    </tr>\n",
       "    <tr>\n",
       "      <th>4</th>\n",
       "      <td>Snow</td>\n",
       "      <td>Light</td>\n",
       "      <td>1/8/16 13:54</td>\n",
       "      <td>1/8/16 15:54</td>\n",
       "      <td>0.00</td>\n",
       "      <td>US/Mountain</td>\n",
       "      <td>K04V</td>\n",
       "      <td>38.0972</td>\n",
       "      <td>-106.1689</td>\n",
       "      <td>Saguache</td>\n",
       "      <td>Saguache</td>\n",
       "      <td>CO</td>\n",
       "      <td>81149.0</td>\n",
       "    </tr>\n",
       "    <tr>\n",
       "      <th>...</th>\n",
       "      <td>...</td>\n",
       "      <td>...</td>\n",
       "      <td>...</td>\n",
       "      <td>...</td>\n",
       "      <td>...</td>\n",
       "      <td>...</td>\n",
       "      <td>...</td>\n",
       "      <td>...</td>\n",
       "      <td>...</td>\n",
       "      <td>...</td>\n",
       "      <td>...</td>\n",
       "      <td>...</td>\n",
       "      <td>...</td>\n",
       "    </tr>\n",
       "    <tr>\n",
       "      <th>10577</th>\n",
       "      <td>Fog</td>\n",
       "      <td>Severe</td>\n",
       "      <td>12/27/21 9:55</td>\n",
       "      <td>12/27/21 12:15</td>\n",
       "      <td>0.00</td>\n",
       "      <td>US/Central</td>\n",
       "      <td>KAEL</td>\n",
       "      <td>43.6822</td>\n",
       "      <td>-93.3722</td>\n",
       "      <td>Albert Lea</td>\n",
       "      <td>Freeborn</td>\n",
       "      <td>MN</td>\n",
       "      <td>56007.0</td>\n",
       "    </tr>\n",
       "    <tr>\n",
       "      <th>10578</th>\n",
       "      <td>Snow</td>\n",
       "      <td>Light</td>\n",
       "      <td>12/28/21 15:55</td>\n",
       "      <td>12/28/21 19:35</td>\n",
       "      <td>0.00</td>\n",
       "      <td>US/Central</td>\n",
       "      <td>KAEL</td>\n",
       "      <td>43.6822</td>\n",
       "      <td>-93.3722</td>\n",
       "      <td>Albert Lea</td>\n",
       "      <td>Freeborn</td>\n",
       "      <td>MN</td>\n",
       "      <td>56007.0</td>\n",
       "    </tr>\n",
       "    <tr>\n",
       "      <th>10579</th>\n",
       "      <td>Snow</td>\n",
       "      <td>Light</td>\n",
       "      <td>12/29/21 2:35</td>\n",
       "      <td>12/29/21 2:55</td>\n",
       "      <td>0.00</td>\n",
       "      <td>US/Central</td>\n",
       "      <td>KAEL</td>\n",
       "      <td>43.6822</td>\n",
       "      <td>-93.3722</td>\n",
       "      <td>Albert Lea</td>\n",
       "      <td>Freeborn</td>\n",
       "      <td>MN</td>\n",
       "      <td>56007.0</td>\n",
       "    </tr>\n",
       "    <tr>\n",
       "      <th>10580</th>\n",
       "      <td>Snow</td>\n",
       "      <td>Light</td>\n",
       "      <td>12/30/21 7:55</td>\n",
       "      <td>12/30/21 10:55</td>\n",
       "      <td>0.00</td>\n",
       "      <td>US/Central</td>\n",
       "      <td>KAEL</td>\n",
       "      <td>43.6822</td>\n",
       "      <td>-93.3722</td>\n",
       "      <td>Albert Lea</td>\n",
       "      <td>Freeborn</td>\n",
       "      <td>MN</td>\n",
       "      <td>56007.0</td>\n",
       "    </tr>\n",
       "    <tr>\n",
       "      <th>10581</th>\n",
       "      <td>Fog</td>\n",
       "      <td>Severe</td>\n",
       "      <td>12/31/21 6:35</td>\n",
       "      <td>12/31/21 8:15</td>\n",
       "      <td>0.00</td>\n",
       "      <td>US/Central</td>\n",
       "      <td>KAEL</td>\n",
       "      <td>43.6822</td>\n",
       "      <td>-93.3722</td>\n",
       "      <td>Albert Lea</td>\n",
       "      <td>Freeborn</td>\n",
       "      <td>MN</td>\n",
       "      <td>56007.0</td>\n",
       "    </tr>\n",
       "  </tbody>\n",
       "</table>\n",
       "<p>10582 rows × 13 columns</p>\n",
       "</div>"
      ]
     },
     "execution_count": 56,
     "metadata": {},
     "output_type": "execute_result"
    }
   ],
   "execution_count": 56
  },
  {
   "metadata": {},
   "cell_type": "markdown",
   "source": "# Droping Rows which are useless",
   "id": "9b5651268dda92d7"
  },
  {
   "metadata": {
    "ExecuteTime": {
     "end_time": "2025-03-09T07:30:05.811538Z",
     "start_time": "2025-03-09T07:30:05.774530Z"
    }
   },
   "cell_type": "code",
   "source": [
    "# I have dropped these rows because without it our dataset is complate and if filled the missing values then it might lead to some accuracy issues and making our data noisy\n",
    "rows_to_drop = df[df[['AirportCode', 'LocationLat']].isnull().all(axis=1)]\n",
    "\n",
    "# Drop the rows\n",
    "df.dropna(subset=['AirportCode', 'LocationLat'], how='all', inplace=True)\n",
    "\n",
    "# Display dropped rows\n",
    "print(\"Dropped Rows:\")\n",
    "print(rows_to_drop)\n"
   ],
   "id": "a5926155f9f937e4",
   "outputs": [
    {
     "name": "stdout",
     "output_type": "stream",
     "text": [
      "Dropped Rows:\n",
      "Empty DataFrame\n",
      "Columns: [Type, Severity, StartTime(UTC), EndTime(UTC), Precipitation(in), TimeZone, AirportCode, LocationLat, LocationLng, City, County, State, ZipCode]\n",
      "Index: []\n",
      "       Type Severity  StartTime(UTC)    EndTime(UTC)  Precipitation(in)  \\\n",
      "0      Snow    Light    1/6/16 23:14     1/7/16 0:34               0.00   \n",
      "1      Snow    Light     1/7/16 4:14     1/7/16 4:54               0.00   \n",
      "2      Snow    Light     1/7/16 5:54    1/7/16 15:34               0.03   \n",
      "3      Snow    Light     1/8/16 5:34     1/8/16 5:54               0.00   \n",
      "4      Snow    Light    1/8/16 13:54    1/8/16 15:54               0.00   \n",
      "...     ...      ...             ...             ...                ...   \n",
      "10577   Fog   Severe   12/27/21 9:55  12/27/21 12:15               0.00   \n",
      "10578  Snow    Light  12/28/21 15:55  12/28/21 19:35               0.00   \n",
      "10579  Snow    Light   12/29/21 2:35   12/29/21 2:55               0.00   \n",
      "10580  Snow    Light   12/30/21 7:55  12/30/21 10:55               0.00   \n",
      "10581   Fog   Severe   12/31/21 6:35   12/31/21 8:15               0.00   \n",
      "\n",
      "          TimeZone AirportCode  LocationLat  LocationLng        City  \\\n",
      "0      US/Mountain        K04V      38.0972    -106.1689    Saguache   \n",
      "1      US/Mountain        K04V      38.0972    -106.1689    Saguache   \n",
      "2      US/Mountain        K04V      38.0972    -106.1689    Saguache   \n",
      "3      US/Mountain        K04V      38.0972    -106.1689    Saguache   \n",
      "4      US/Mountain        K04V      38.0972    -106.1689    Saguache   \n",
      "...            ...         ...          ...          ...         ...   \n",
      "10577   US/Central        KAEL      43.6822     -93.3722  Albert Lea   \n",
      "10578   US/Central        KAEL      43.6822     -93.3722  Albert Lea   \n",
      "10579   US/Central        KAEL      43.6822     -93.3722  Albert Lea   \n",
      "10580   US/Central        KAEL      43.6822     -93.3722  Albert Lea   \n",
      "10581   US/Central        KAEL      43.6822     -93.3722  Albert Lea   \n",
      "\n",
      "         County State  ZipCode  \n",
      "0      Saguache    CO  81149.0  \n",
      "1      Saguache    CO  81149.0  \n",
      "2      Saguache    CO  81149.0  \n",
      "3      Saguache    CO  81149.0  \n",
      "4      Saguache    CO  81149.0  \n",
      "...         ...   ...      ...  \n",
      "10577  Freeborn    MN  56007.0  \n",
      "10578  Freeborn    MN  56007.0  \n",
      "10579  Freeborn    MN  56007.0  \n",
      "10580  Freeborn    MN  56007.0  \n",
      "10581  Freeborn    MN  56007.0  \n",
      "\n",
      "[10576 rows x 13 columns]\n"
     ]
    }
   ],
   "execution_count": 5
  },
  {
   "metadata": {
    "ExecuteTime": {
     "end_time": "2025-03-09T07:31:24.608391Z",
     "start_time": "2025-03-09T07:31:24.568674Z"
    }
   },
   "cell_type": "code",
   "source": "df",
   "id": "80ad90665c647d2b",
   "outputs": [
    {
     "data": {
      "text/plain": [
       "       Type Severity  StartTime(UTC)    EndTime(UTC)  Precipitation(in)  \\\n",
       "0      Snow    Light    1/6/16 23:14     1/7/16 0:34               0.00   \n",
       "1      Snow    Light     1/7/16 4:14     1/7/16 4:54               0.00   \n",
       "2      Snow    Light     1/7/16 5:54    1/7/16 15:34               0.03   \n",
       "3      Snow    Light     1/8/16 5:34     1/8/16 5:54               0.00   \n",
       "4      Snow    Light    1/8/16 13:54    1/8/16 15:54               0.00   \n",
       "...     ...      ...             ...             ...                ...   \n",
       "10577   Fog   Severe   12/27/21 9:55  12/27/21 12:15               0.00   \n",
       "10578  Snow    Light  12/28/21 15:55  12/28/21 19:35               0.00   \n",
       "10579  Snow    Light   12/29/21 2:35   12/29/21 2:55               0.00   \n",
       "10580  Snow    Light   12/30/21 7:55  12/30/21 10:55               0.00   \n",
       "10581   Fog   Severe   12/31/21 6:35   12/31/21 8:15               0.00   \n",
       "\n",
       "          TimeZone AirportCode  LocationLat  LocationLng        City  \\\n",
       "0      US/Mountain        K04V      38.0972    -106.1689    Saguache   \n",
       "1      US/Mountain        K04V      38.0972    -106.1689    Saguache   \n",
       "2      US/Mountain        K04V      38.0972    -106.1689    Saguache   \n",
       "3      US/Mountain        K04V      38.0972    -106.1689    Saguache   \n",
       "4      US/Mountain        K04V      38.0972    -106.1689    Saguache   \n",
       "...            ...         ...          ...          ...         ...   \n",
       "10577   US/Central        KAEL      43.6822     -93.3722  Albert Lea   \n",
       "10578   US/Central        KAEL      43.6822     -93.3722  Albert Lea   \n",
       "10579   US/Central        KAEL      43.6822     -93.3722  Albert Lea   \n",
       "10580   US/Central        KAEL      43.6822     -93.3722  Albert Lea   \n",
       "10581   US/Central        KAEL      43.6822     -93.3722  Albert Lea   \n",
       "\n",
       "         County State  ZipCode  \n",
       "0      Saguache    CO  81149.0  \n",
       "1      Saguache    CO  81149.0  \n",
       "2      Saguache    CO  81149.0  \n",
       "3      Saguache    CO  81149.0  \n",
       "4      Saguache    CO  81149.0  \n",
       "...         ...   ...      ...  \n",
       "10577  Freeborn    MN  56007.0  \n",
       "10578  Freeborn    MN  56007.0  \n",
       "10579  Freeborn    MN  56007.0  \n",
       "10580  Freeborn    MN  56007.0  \n",
       "10581  Freeborn    MN  56007.0  \n",
       "\n",
       "[10576 rows x 13 columns]"
      ],
      "text/html": [
       "<div>\n",
       "<style scoped>\n",
       "    .dataframe tbody tr th:only-of-type {\n",
       "        vertical-align: middle;\n",
       "    }\n",
       "\n",
       "    .dataframe tbody tr th {\n",
       "        vertical-align: top;\n",
       "    }\n",
       "\n",
       "    .dataframe thead th {\n",
       "        text-align: right;\n",
       "    }\n",
       "</style>\n",
       "<table border=\"1\" class=\"dataframe\">\n",
       "  <thead>\n",
       "    <tr style=\"text-align: right;\">\n",
       "      <th></th>\n",
       "      <th>Type</th>\n",
       "      <th>Severity</th>\n",
       "      <th>StartTime(UTC)</th>\n",
       "      <th>EndTime(UTC)</th>\n",
       "      <th>Precipitation(in)</th>\n",
       "      <th>TimeZone</th>\n",
       "      <th>AirportCode</th>\n",
       "      <th>LocationLat</th>\n",
       "      <th>LocationLng</th>\n",
       "      <th>City</th>\n",
       "      <th>County</th>\n",
       "      <th>State</th>\n",
       "      <th>ZipCode</th>\n",
       "    </tr>\n",
       "  </thead>\n",
       "  <tbody>\n",
       "    <tr>\n",
       "      <th>0</th>\n",
       "      <td>Snow</td>\n",
       "      <td>Light</td>\n",
       "      <td>1/6/16 23:14</td>\n",
       "      <td>1/7/16 0:34</td>\n",
       "      <td>0.00</td>\n",
       "      <td>US/Mountain</td>\n",
       "      <td>K04V</td>\n",
       "      <td>38.0972</td>\n",
       "      <td>-106.1689</td>\n",
       "      <td>Saguache</td>\n",
       "      <td>Saguache</td>\n",
       "      <td>CO</td>\n",
       "      <td>81149.0</td>\n",
       "    </tr>\n",
       "    <tr>\n",
       "      <th>1</th>\n",
       "      <td>Snow</td>\n",
       "      <td>Light</td>\n",
       "      <td>1/7/16 4:14</td>\n",
       "      <td>1/7/16 4:54</td>\n",
       "      <td>0.00</td>\n",
       "      <td>US/Mountain</td>\n",
       "      <td>K04V</td>\n",
       "      <td>38.0972</td>\n",
       "      <td>-106.1689</td>\n",
       "      <td>Saguache</td>\n",
       "      <td>Saguache</td>\n",
       "      <td>CO</td>\n",
       "      <td>81149.0</td>\n",
       "    </tr>\n",
       "    <tr>\n",
       "      <th>2</th>\n",
       "      <td>Snow</td>\n",
       "      <td>Light</td>\n",
       "      <td>1/7/16 5:54</td>\n",
       "      <td>1/7/16 15:34</td>\n",
       "      <td>0.03</td>\n",
       "      <td>US/Mountain</td>\n",
       "      <td>K04V</td>\n",
       "      <td>38.0972</td>\n",
       "      <td>-106.1689</td>\n",
       "      <td>Saguache</td>\n",
       "      <td>Saguache</td>\n",
       "      <td>CO</td>\n",
       "      <td>81149.0</td>\n",
       "    </tr>\n",
       "    <tr>\n",
       "      <th>3</th>\n",
       "      <td>Snow</td>\n",
       "      <td>Light</td>\n",
       "      <td>1/8/16 5:34</td>\n",
       "      <td>1/8/16 5:54</td>\n",
       "      <td>0.00</td>\n",
       "      <td>US/Mountain</td>\n",
       "      <td>K04V</td>\n",
       "      <td>38.0972</td>\n",
       "      <td>-106.1689</td>\n",
       "      <td>Saguache</td>\n",
       "      <td>Saguache</td>\n",
       "      <td>CO</td>\n",
       "      <td>81149.0</td>\n",
       "    </tr>\n",
       "    <tr>\n",
       "      <th>4</th>\n",
       "      <td>Snow</td>\n",
       "      <td>Light</td>\n",
       "      <td>1/8/16 13:54</td>\n",
       "      <td>1/8/16 15:54</td>\n",
       "      <td>0.00</td>\n",
       "      <td>US/Mountain</td>\n",
       "      <td>K04V</td>\n",
       "      <td>38.0972</td>\n",
       "      <td>-106.1689</td>\n",
       "      <td>Saguache</td>\n",
       "      <td>Saguache</td>\n",
       "      <td>CO</td>\n",
       "      <td>81149.0</td>\n",
       "    </tr>\n",
       "    <tr>\n",
       "      <th>...</th>\n",
       "      <td>...</td>\n",
       "      <td>...</td>\n",
       "      <td>...</td>\n",
       "      <td>...</td>\n",
       "      <td>...</td>\n",
       "      <td>...</td>\n",
       "      <td>...</td>\n",
       "      <td>...</td>\n",
       "      <td>...</td>\n",
       "      <td>...</td>\n",
       "      <td>...</td>\n",
       "      <td>...</td>\n",
       "      <td>...</td>\n",
       "    </tr>\n",
       "    <tr>\n",
       "      <th>10577</th>\n",
       "      <td>Fog</td>\n",
       "      <td>Severe</td>\n",
       "      <td>12/27/21 9:55</td>\n",
       "      <td>12/27/21 12:15</td>\n",
       "      <td>0.00</td>\n",
       "      <td>US/Central</td>\n",
       "      <td>KAEL</td>\n",
       "      <td>43.6822</td>\n",
       "      <td>-93.3722</td>\n",
       "      <td>Albert Lea</td>\n",
       "      <td>Freeborn</td>\n",
       "      <td>MN</td>\n",
       "      <td>56007.0</td>\n",
       "    </tr>\n",
       "    <tr>\n",
       "      <th>10578</th>\n",
       "      <td>Snow</td>\n",
       "      <td>Light</td>\n",
       "      <td>12/28/21 15:55</td>\n",
       "      <td>12/28/21 19:35</td>\n",
       "      <td>0.00</td>\n",
       "      <td>US/Central</td>\n",
       "      <td>KAEL</td>\n",
       "      <td>43.6822</td>\n",
       "      <td>-93.3722</td>\n",
       "      <td>Albert Lea</td>\n",
       "      <td>Freeborn</td>\n",
       "      <td>MN</td>\n",
       "      <td>56007.0</td>\n",
       "    </tr>\n",
       "    <tr>\n",
       "      <th>10579</th>\n",
       "      <td>Snow</td>\n",
       "      <td>Light</td>\n",
       "      <td>12/29/21 2:35</td>\n",
       "      <td>12/29/21 2:55</td>\n",
       "      <td>0.00</td>\n",
       "      <td>US/Central</td>\n",
       "      <td>KAEL</td>\n",
       "      <td>43.6822</td>\n",
       "      <td>-93.3722</td>\n",
       "      <td>Albert Lea</td>\n",
       "      <td>Freeborn</td>\n",
       "      <td>MN</td>\n",
       "      <td>56007.0</td>\n",
       "    </tr>\n",
       "    <tr>\n",
       "      <th>10580</th>\n",
       "      <td>Snow</td>\n",
       "      <td>Light</td>\n",
       "      <td>12/30/21 7:55</td>\n",
       "      <td>12/30/21 10:55</td>\n",
       "      <td>0.00</td>\n",
       "      <td>US/Central</td>\n",
       "      <td>KAEL</td>\n",
       "      <td>43.6822</td>\n",
       "      <td>-93.3722</td>\n",
       "      <td>Albert Lea</td>\n",
       "      <td>Freeborn</td>\n",
       "      <td>MN</td>\n",
       "      <td>56007.0</td>\n",
       "    </tr>\n",
       "    <tr>\n",
       "      <th>10581</th>\n",
       "      <td>Fog</td>\n",
       "      <td>Severe</td>\n",
       "      <td>12/31/21 6:35</td>\n",
       "      <td>12/31/21 8:15</td>\n",
       "      <td>0.00</td>\n",
       "      <td>US/Central</td>\n",
       "      <td>KAEL</td>\n",
       "      <td>43.6822</td>\n",
       "      <td>-93.3722</td>\n",
       "      <td>Albert Lea</td>\n",
       "      <td>Freeborn</td>\n",
       "      <td>MN</td>\n",
       "      <td>56007.0</td>\n",
       "    </tr>\n",
       "  </tbody>\n",
       "</table>\n",
       "<p>10576 rows × 13 columns</p>\n",
       "</div>"
      ]
     },
     "execution_count": 7,
     "metadata": {},
     "output_type": "execute_result"
    }
   ],
   "execution_count": 7
  },
  {
   "metadata": {},
   "cell_type": "markdown",
   "source": "# Severity",
   "id": "ead74f24058cb86b"
  },
  {
   "metadata": {
    "ExecuteTime": {
     "end_time": "2025-03-06T18:26:22.683797Z",
     "start_time": "2025-03-06T18:26:22.670078Z"
    }
   },
   "cell_type": "code",
   "source": [
    "S_index=df[df['Severity'].isna()].index\n",
    "S_index"
   ],
   "id": "c042234d77e239a4",
   "outputs": [
    {
     "data": {
      "text/plain": [
       "Index([3781, 3782, 3783, 3784, 3785, 3786, 3787, 3788, 3789, 3790, 3791, 3792,\n",
       "       3793, 3794, 3795, 3796, 3797, 3798, 3799, 3800, 3801, 3802, 3803, 3804,\n",
       "       3805, 3806, 3807, 3808, 3809, 3810, 3811, 3812, 3813, 3814, 3815, 3816,\n",
       "       3817],\n",
       "      dtype='int64')"
      ]
     },
     "execution_count": 58,
     "metadata": {},
     "output_type": "execute_result"
    }
   ],
   "execution_count": 58
  },
  {
   "metadata": {
    "ExecuteTime": {
     "end_time": "2025-03-06T18:35:47.951065Z",
     "start_time": "2025-03-06T18:35:47.935384Z"
    }
   },
   "cell_type": "code",
   "source": [
    "S_mode=df['Severity'].mode()\n",
    "df['Severity'].fillna(S_mode[0])\n",
    "New_df = df"
   ],
   "id": "8a1eacd82db746f9",
   "outputs": [],
   "execution_count": 62
  },
  {
   "metadata": {},
   "cell_type": "markdown",
   "source": "# Airport code values Filling",
   "id": "310cdeb4def2b361"
  },
  {
   "metadata": {
    "ExecuteTime": {
     "end_time": "2025-03-06T18:52:47.754074Z",
     "start_time": "2025-03-06T18:52:47.735008Z"
    }
   },
   "cell_type": "code",
   "source": [
    "A_index=df[df['AirportCode'].isna()].index\n",
    "A_index"
   ],
   "id": "d9777d0f356963eb",
   "outputs": [
    {
     "data": {
      "text/plain": [
       "Index([], dtype='int64')"
      ]
     },
     "execution_count": 77,
     "metadata": {},
     "output_type": "execute_result"
    }
   ],
   "execution_count": 77
  },
  {
   "metadata": {
    "ExecuteTime": {
     "end_time": "2025-03-06T18:53:27.504832Z",
     "start_time": "2025-03-06T18:53:27.492549Z"
    }
   },
   "cell_type": "code",
   "source": [
    "l_index=df[df['LocationLat'].isna()].index\n",
    "l_index"
   ],
   "id": "dbd76bed38357373",
   "outputs": [
    {
     "data": {
      "text/plain": [
       "Index([600, 601, 602, 603, 604, 605], dtype='int64')"
      ]
     },
     "execution_count": 78,
     "metadata": {},
     "output_type": "execute_result"
    }
   ],
   "execution_count": 78
  },
  {
   "metadata": {
    "ExecuteTime": {
     "end_time": "2025-03-06T18:53:57.892970Z",
     "start_time": "2025-03-06T18:53:57.875679Z"
    }
   },
   "cell_type": "code",
   "source": [
    "L_index=df[df['LocationLng'].isna()].index\n",
    "L_index"
   ],
   "id": "3b0b3e57726eb824",
   "outputs": [
    {
     "data": {
      "text/plain": [
       "Index([600, 601, 602, 603, 604, 605], dtype='int64')"
      ]
     },
     "execution_count": 79,
     "metadata": {},
     "output_type": "execute_result"
    }
   ],
   "execution_count": 79
  },
  {
   "metadata": {},
   "cell_type": "markdown",
   "source": "# Filling the values",
   "id": "9eb0be7544fe01c5"
  },
  {
   "metadata": {
    "ExecuteTime": {
     "end_time": "2025-03-10T18:03:40.421769Z",
     "start_time": "2025-03-10T18:03:40.406587Z"
    }
   },
   "cell_type": "code",
   "source": "df.loc[(df['ZipCode'] == 81149) & (df['City'] == 'Saguache'), ['LocationLng', 'LocationLat']] = [-106.1689, 38.0972]\n",
   "id": "5b9a9718d14743ab",
   "outputs": [],
   "execution_count": 20
  },
  {
   "metadata": {
    "ExecuteTime": {
     "end_time": "2025-03-10T18:03:43.280462Z",
     "start_time": "2025-03-10T18:03:43.260484Z"
    }
   },
   "cell_type": "code",
   "source": "df.loc[(df['County'] == 'Saguache') & (df['City'] == 'Saguache'), ['ZipCode', 'State']] = [81149, 'CO']\n",
   "id": "715e53fac35f3732",
   "outputs": [],
   "execution_count": 21
  },
  {
   "metadata": {
    "ExecuteTime": {
     "end_time": "2025-03-06T19:09:39.836180Z",
     "start_time": "2025-03-06T19:09:39.816454Z"
    }
   },
   "cell_type": "code",
   "source": [
    "df['Severity'].fillna(df['Severity'].mode()[0])\n",
    "df['Type'].fillna(df['Type'].mode()[0])\n"
   ],
   "id": "28d5f35d0c1d8ec4",
   "outputs": [
    {
     "data": {
      "text/plain": [
       "0        Snow\n",
       "1        Snow\n",
       "2        Snow\n",
       "3        Snow\n",
       "4        Snow\n",
       "         ... \n",
       "10577     Fog\n",
       "10578    Snow\n",
       "10579    Snow\n",
       "10580    Snow\n",
       "10581     Fog\n",
       "Name: Type, Length: 10576, dtype: object"
      ]
     },
     "execution_count": 94,
     "metadata": {},
     "output_type": "execute_result"
    }
   ],
   "execution_count": 94
  },
  {
   "metadata": {},
   "cell_type": "markdown",
   "source": "# writing file",
   "id": "4ea42b446e200fc0"
  },
  {
   "metadata": {
    "ExecuteTime": {
     "end_time": "2025-03-06T19:10:14.441879Z",
     "start_time": "2025-03-06T19:10:14.326818Z"
    }
   },
   "cell_type": "code",
   "source": "df.to_csv('output2.csv', index=False)\n",
   "id": "31a73ad713230548",
   "outputs": [],
   "execution_count": 96
  },
  {
   "metadata": {},
   "cell_type": "markdown",
   "source": "# Task A part 2",
   "id": "8dca5f81313036d8"
  },
  {
   "metadata": {
    "ExecuteTime": {
     "end_time": "2025-03-11T04:47:18.540864Z",
     "start_time": "2025-03-11T04:47:18.393202Z"
    }
   },
   "cell_type": "code",
   "source": "clean_data = pd.read_csv('output2.csv')",
   "id": "9e0c017f967315aa",
   "outputs": [],
   "execution_count": 2
  },
  {
   "metadata": {
    "ExecuteTime": {
     "end_time": "2025-03-11T04:47:21.643546Z",
     "start_time": "2025-03-11T04:47:20.692271Z"
    }
   },
   "cell_type": "code",
   "source": [
    "import pandas as pd\n",
    "\n",
    "# Ensure StartTime(UTC) is in datetime format (auto-detect format to avoid errors)\n",
    "clean_data['StartTime(UTC)'] = pd.to_datetime(clean_data['StartTime(UTC)'], errors='coerce')\n",
    "\n",
    "# Extract features\n",
    "clean_data['Hour'] = clean_data['StartTime(UTC)'].dt.hour\n",
    "clean_data['DayOfWeek'] = clean_data['StartTime(UTC)'].dt.dayofweek  # Monday=0, Sunday=6\n",
    "clean_data['Month'] = clean_data['StartTime(UTC)'].dt.month\n",
    "\n",
    "# Display sample output\n",
    "print(clean_data[['StartTime(UTC)', 'Hour', 'DayOfWeek', 'Month']].head())\n",
    "clean_data.to_csv(\"output2.csv\",index=False)\n"
   ],
   "id": "1fa7679c649ac9cf",
   "outputs": [
    {
     "name": "stdout",
     "output_type": "stream",
     "text": [
      "       StartTime(UTC)  Hour  DayOfWeek  Month\n",
      "0 2016-01-06 23:14:00    23          2      1\n",
      "1 2016-01-07 04:14:00     4          3      1\n",
      "2 2016-01-07 05:54:00     5          3      1\n",
      "3 2016-01-08 05:34:00     5          4      1\n",
      "4 2016-01-08 13:54:00    13          4      1\n",
      "Unexpected exception formatting exception. Falling back to standard exception\n"
     ]
    },
    {
     "name": "stderr",
     "output_type": "stream",
     "text": [
      "Traceback (most recent call last):\n",
      "  File \"C:\\Users\\User\\miniconda3\\Lib\\site-packages\\IPython\\core\\interactiveshell.py\", line 3579, in run_code\n",
      "    exec(code_obj, self.user_global_ns, self.user_ns)\n",
      "  File \"C:\\Users\\User\\AppData\\Local\\Temp\\ipykernel_19788\\682802272.py\", line 13, in <module>\n",
      "    clean_data.to_csv(\"output2.csv\",index=False)\n",
      "  File \"C:\\Users\\User\\miniconda3\\Lib\\site-packages\\pandas\\util\\_decorators.py\", line 333, in wrapper\n",
      "    return func(*args, **kwargs)\n",
      "           ^^^^^^^^^^^^^^^^^^^^^\n",
      "  File \"C:\\Users\\User\\miniconda3\\Lib\\site-packages\\pandas\\core\\generic.py\", line 3967, in to_csv\n",
      "    return DataFrameRenderer(formatter).to_csv(\n",
      "           ^^^^^^^^^^^^^^^^^^^^^^^^^^^^^^^^^^^^\n",
      "  File \"C:\\Users\\User\\miniconda3\\Lib\\site-packages\\pandas\\io\\formats\\format.py\", line 1014, in to_csv\n",
      "    csv_formatter.save()\n",
      "  File \"C:\\Users\\User\\miniconda3\\Lib\\site-packages\\pandas\\io\\formats\\csvs.py\", line 251, in save\n",
      "    with get_handle(\n",
      "         ^^^^^^^^^^^\n",
      "  File \"C:\\Users\\User\\miniconda3\\Lib\\site-packages\\pandas\\io\\common.py\", line 873, in get_handle\n",
      "    handle = open(\n",
      "             ^^^^^\n",
      "PermissionError: [Errno 13] Permission denied: 'output2.csv'\n",
      "\n",
      "During handling of the above exception, another exception occurred:\n",
      "\n",
      "Traceback (most recent call last):\n",
      "  File \"C:\\Users\\User\\miniconda3\\Lib\\site-packages\\IPython\\core\\interactiveshell.py\", line 2170, in showtraceback\n",
      "    stb = self.InteractiveTB.structured_traceback(\n",
      "          ^^^^^^^^^^^^^^^^^^^^^^^^^^^^^^^^^^^^^^^^\n",
      "  File \"C:\\Users\\User\\miniconda3\\Lib\\site-packages\\IPython\\core\\ultratb.py\", line 1457, in structured_traceback\n",
      "    return FormattedTB.structured_traceback(\n",
      "           ^^^^^^^^^^^^^^^^^^^^^^^^^^^^^^^^^\n",
      "  File \"C:\\Users\\User\\miniconda3\\Lib\\site-packages\\IPython\\core\\ultratb.py\", line 1348, in structured_traceback\n",
      "    return VerboseTB.structured_traceback(\n",
      "           ^^^^^^^^^^^^^^^^^^^^^^^^^^^^^^^\n",
      "  File \"C:\\Users\\User\\miniconda3\\Lib\\site-packages\\IPython\\core\\ultratb.py\", line 1195, in structured_traceback\n",
      "    formatted_exception = self.format_exception_as_a_whole(etype, evalue, etb, number_of_lines_of_context,\n",
      "                          ^^^^^^^^^^^^^^^^^^^^^^^^^^^^^^^^^^^^^^^^^^^^^^^^^^^^^^^^^^^^^^^^^^^^^^^^^^^^^^^^\n",
      "  File \"C:\\Users\\User\\miniconda3\\Lib\\site-packages\\IPython\\core\\ultratb.py\", line 1110, in format_exception_as_a_whole\n",
      "    frames.append(self.format_record(record))\n",
      "                  ^^^^^^^^^^^^^^^^^^^^^^^^^^\n",
      "  File \"C:\\Users\\User\\miniconda3\\Lib\\site-packages\\IPython\\core\\ultratb.py\", line 992, in format_record\n",
      "    frame_info.lines, Colors, self.has_colors, lvals\n",
      "    ^^^^^^^^^^^^^^^^\n",
      "  File \"C:\\Users\\User\\miniconda3\\Lib\\site-packages\\IPython\\core\\ultratb.py\", line 804, in lines\n",
      "    return self._sd.lines\n",
      "           ^^^^^^^^^^^^^^\n",
      "  File \"C:\\Users\\User\\miniconda3\\Lib\\site-packages\\stack_data\\utils.py\", line 145, in cached_property_wrapper\n",
      "    value = obj.__dict__[self.func.__name__] = self.func(obj)\n",
      "                                               ^^^^^^^^^^^^^^\n",
      "  File \"C:\\Users\\User\\miniconda3\\Lib\\site-packages\\stack_data\\core.py\", line 734, in lines\n",
      "    pieces = self.included_pieces\n",
      "             ^^^^^^^^^^^^^^^^^^^^\n",
      "  File \"C:\\Users\\User\\miniconda3\\Lib\\site-packages\\stack_data\\utils.py\", line 145, in cached_property_wrapper\n",
      "    value = obj.__dict__[self.func.__name__] = self.func(obj)\n",
      "                                               ^^^^^^^^^^^^^^\n",
      "  File \"C:\\Users\\User\\miniconda3\\Lib\\site-packages\\stack_data\\core.py\", line 677, in included_pieces\n",
      "    scope_pieces = self.scope_pieces\n",
      "                   ^^^^^^^^^^^^^^^^^\n",
      "  File \"C:\\Users\\User\\miniconda3\\Lib\\site-packages\\stack_data\\utils.py\", line 145, in cached_property_wrapper\n",
      "    value = obj.__dict__[self.func.__name__] = self.func(obj)\n",
      "                                               ^^^^^^^^^^^^^^\n",
      "  File \"C:\\Users\\User\\miniconda3\\Lib\\site-packages\\stack_data\\core.py\", line 614, in scope_pieces\n",
      "    scope_start, scope_end = self.source.line_range(self.scope)\n",
      "                             ^^^^^^^^^^^^^^^^^^^^^^^^^^^^^^^^^^\n",
      "  File \"C:\\Users\\User\\miniconda3\\Lib\\site-packages\\stack_data\\core.py\", line 178, in line_range\n",
      "    return line_range(self.asttext(), node)\n",
      "                      ^^^^^^^^^^^^\n",
      "AttributeError: 'Source' object has no attribute 'asttext'\n"
     ]
    }
   ],
   "execution_count": 3
  },
  {
   "metadata": {},
   "cell_type": "markdown",
   "source": "# Task 2\n",
   "id": "bfb1eb4f0f06696b"
  },
  {
   "metadata": {
    "ExecuteTime": {
     "end_time": "2025-03-10T18:04:19.340706Z",
     "start_time": "2025-03-10T18:04:19.325399Z"
    }
   },
   "cell_type": "code",
   "source": [
    "import pandas as pd\n",
    "import matplotlib.pyplot as plt\n",
    "import seaborn as sns\n",
    "\n",
    "# Check data types\n",
    "print(clean_data.Hour)\n"
   ],
   "id": "bf3345c5e8bc0a8c",
   "outputs": [
    {
     "name": "stdout",
     "output_type": "stream",
     "text": [
      "0        23\n",
      "1         4\n",
      "2         5\n",
      "3         5\n",
      "4        13\n",
      "         ..\n",
      "10571     9\n",
      "10572    15\n",
      "10573     2\n",
      "10574     7\n",
      "10575     6\n",
      "Name: Hour, Length: 10576, dtype: int64\n"
     ]
    }
   ],
   "execution_count": 25
  },
  {
   "metadata": {
    "jupyter": {
     "is_executing": true
    },
    "ExecuteTime": {
     "start_time": "2025-03-11T05:10:21.938589Z"
    }
   },
   "cell_type": "code",
   "source": [
    "import pandas as pd\n",
    "import matplotlib.pyplot as plt\n",
    "import seaborn as sns\n",
    "\n",
    "# Load dataset\n",
    "file_path = \"Weather Records.csv\"\n",
    "clean_data = pd.read_csv(file_path)\n",
    "\n",
    "# Convert datetime columns if present\n",
    "if \"StartTime(UTC)\" in clean_data.columns:\n",
    "    clean_data[\"StartTime(UTC)\"] = pd.to_datetime(clean_data[\"StartTime(UTC)\"], errors='coerce')\n",
    "\n",
    "# Identify numerical and categorical columns\n",
    "numerical_cols = clean_data.select_dtypes(include=['float64', 'int64']).columns\n",
    "categorical_cols = clean_data.select_dtypes(include=['object', 'category']).columns\n",
    "\n",
    "# Set Seaborn style\n",
    "sns.set_style(\"whitegrid\")\n",
    "\n",
    "for col in numerical_cols:\n",
    "    plt.figure(figsize=(8, 4))\n",
    "    sns.histplot(clean_data[col].dropna(), bins=30, kde=True, color=\"blue\")\n",
    "    plt.title(f\"Distribution of {col}\")\n",
    "    plt.xlabel(col)\n",
    "    plt.ylabel(\"Frequency\")\n",
    "    plt.grid(True)\n",
    "    plt.show()\n",
    "\n",
    "\n",
    "for col in categorical_cols:\n",
    "    plt.figure(figsize=(10, 5))\n",
    "    order = clean_data[col].value_counts().index  # Sort by count\n",
    "    sns.countplot(y=clean_data[col], order=order, palette=\"coolwarm\")\n",
    "    plt.title(f\"Count of {col}\")\n",
    "    plt.xlabel(\"Count\")\n",
    "    plt.ylabel(col)\n",
    "    plt.grid(True)\n",
    "    plt.show()\n"
   ],
   "id": "4a7c615736c1548",
   "outputs": [
    {
     "name": "stderr",
     "output_type": "stream",
     "text": [
      "C:\\Users\\User\\AppData\\Local\\Temp\\ipykernel_19788\\159080821.py:11: UserWarning: Could not infer format, so each element will be parsed individually, falling back to `dateutil`. To ensure parsing is consistent and as-expected, please specify a format.\n",
      "  clean_data[\"StartTime(UTC)\"] = pd.to_datetime(clean_data[\"StartTime(UTC)\"], errors='coerce')\n"
     ]
    },
    {
     "data": {
      "text/plain": [
       "<Figure size 800x400 with 1 Axes>"
      ],
      "image/png": "[encoded data removed]"
     },
     "metadata": {},
     "output_type": "display_data"
    },
    {
     "data": {
      "text/plain": [
       "<Figure size 800x400 with 1 Axes>"
      ],
      "image/png": "[encoded data removed]"
     },
     "metadata": {},
     "output_type": "display_data"
    },
    {
     "data": {
      "text/plain": [
       "<Figure size 800x400 with 1 Axes>"
      ],
      "image/png": "[encoded data removed]"
     },
     "metadata": {},
     "output_type": "display_data"
    },
    {
     "data": {
      "text/plain": [
       "<Figure size 800x400 with 1 Axes>"
      ],
      "image/png": "[encoded data removed]"
     },
     "metadata": {},
     "output_type": "display_data"
    },
    {
     "name": "stderr",
     "output_type": "stream",
     "text": [
      "C:\\Users\\User\\AppData\\Local\\Temp\\ipykernel_19788\\159080821.py:34: FutureWarning: \n",
      "\n",
      "Passing `palette` without assigning `hue` is deprecated and will be removed in v0.14.0. Assign the `y` variable to `hue` and set `legend=False` for the same effect.\n",
      "\n",
      "  sns.countplot(y=clean_data[col], order=order, palette=\"coolwarm\")\n"
     ]
    },
    {
     "data": {
      "text/plain": [
       "<Figure size 1000x500 with 1 Axes>"
      ],
      "image/png": "[encoded data removed]"
     },
     "metadata": {},
     "output_type": "display_data"
    },
    {
     "name": "stderr",
     "output_type": "stream",
     "text": [
      "C:\\Users\\User\\AppData\\Local\\Temp\\ipykernel_19788\\159080821.py:34: FutureWarning: \n",
      "\n",
      "Passing `palette` without assigning `hue` is deprecated and will be removed in v0.14.0. Assign the `y` variable to `hue` and set `legend=False` for the same effect.\n",
      "\n",
      "  sns.countplot(y=clean_data[col], order=order, palette=\"coolwarm\")\n"
     ]
    },
    {
     "data": {
      "text/plain": [
       "<Figure size 1000x500 with 1 Axes>"
      ],
      "image/png": "[encoded data removed]"
     },
     "metadata": {},
     "output_type": "display_data"
    },
    {
     "name": "stderr",
     "output_type": "stream",
     "text": [
      "C:\\Users\\User\\AppData\\Local\\Temp\\ipykernel_19788\\159080821.py:34: FutureWarning: \n",
      "\n",
      "Passing `palette` without assigning `hue` is deprecated and will be removed in v0.14.0. Assign the `y` variable to `hue` and set `legend=False` for the same effect.\n",
      "\n",
      "  sns.countplot(y=clean_data[col], order=order, palette=\"coolwarm\")\n"
     ]
    },
    {
     "name": "stdout",
     "output_type": "stream",
     "text": [
      "Unexpected exception formatting exception. Falling back to standard exception\n"
     ]
    },
    {
     "name": "stderr",
     "output_type": "stream",
     "text": [
      "Traceback (most recent call last):\n",
      "  File \"C:\\Users\\User\\miniconda3\\Lib\\site-packages\\IPython\\core\\interactiveshell.py\", line 3579, in run_code\n",
      "    exec(code_obj, self.user_global_ns, self.user_ns)\n",
      "  File \"C:\\Users\\User\\AppData\\Local\\Temp\\ipykernel_19788\\159080821.py\", line 34, in <module>\n",
      "    sns.countplot(y=clean_data[col], order=order, palette=\"coolwarm\")\n",
      "  File \"C:\\Users\\User\\miniconda3\\Lib\\site-packages\\seaborn\\categorical.py\", line 2675, in countplot\n",
      "    p.plot_bars(\n",
      "  File \"C:\\Users\\User\\miniconda3\\Lib\\site-packages\\seaborn\\categorical.py\", line 1273, in plot_bars\n",
      "    for sub_vars, sub_data in self.iter_data(iter_vars,\n",
      "                              ^^^^^^^^^^^^^^^^^^^^^^^^^\n",
      "  File \"C:\\Users\\User\\miniconda3\\Lib\\site-packages\\seaborn\\_base.py\", line 949, in iter_data\n",
      "    data_subset = grouped_data.get_group(pd_key)\n",
      "                  ^^^^^^^^^^^^^^^^^^^^^^^^^^^^^^\n",
      "  File \"C:\\Users\\User\\miniconda3\\Lib\\site-packages\\pandas\\core\\groupby\\groupby.py\", line 1118, in get_group\n",
      "    return self._selected_obj.iloc[indexer]\n",
      "           ~~~~~~~~~~~~~~~~~~~~~~~^^^^^^^^^\n",
      "  File \"C:\\Users\\User\\miniconda3\\Lib\\site-packages\\pandas\\core\\indexing.py\", line 1191, in __getitem__\n",
      "    return self._getitem_axis(maybe_callable, axis=axis)\n",
      "           ^^^^^^^^^^^^^^^^^^^^^^^^^^^^^^^^^^^^^^^^^^^^^\n",
      "  File \"C:\\Users\\User\\miniconda3\\Lib\\site-packages\\pandas\\core\\indexing.py\", line 1743, in _getitem_axis\n",
      "    return self._get_list_axis(key, axis=axis)\n",
      "           ^^^^^^^^^^^^^^^^^^^^^^^^^^^^^^^^^^^\n",
      "  File \"C:\\Users\\User\\miniconda3\\Lib\\site-packages\\pandas\\core\\indexing.py\", line 1714, in _get_list_axis\n",
      "    return self.obj._take_with_is_copy(key, axis=axis)\n",
      "           ^^^^^^^^^^^^^^^^^^^^^^^^^^^^^^^^^^^^^^^^^^^\n",
      "  File \"C:\\Users\\User\\miniconda3\\Lib\\site-packages\\pandas\\core\\generic.py\", line 4153, in _take_with_is_copy\n",
      "    result = self.take(indices=indices, axis=axis)\n",
      "             ^^^^^^^^^^^^^^^^^^^^^^^^^^^^^^^^^^^^^\n",
      "  File \"C:\\Users\\User\\miniconda3\\Lib\\site-packages\\pandas\\core\\generic.py\", line 4133, in take\n",
      "    new_data = self._mgr.take(\n",
      "               ^^^^^^^^^^^^^^^\n",
      "  File \"C:\\Users\\User\\miniconda3\\Lib\\site-packages\\pandas\\core\\internals\\managers.py\", line 893, in take\n",
      "    new_labels = self.axes[axis].take(indexer)\n",
      "                 ^^^^^^^^^^^^^^^^^^^^^^^^^^^^^\n",
      "  File \"C:\\Users\\User\\miniconda3\\Lib\\site-packages\\pandas\\core\\indexes\\base.py\", line 1166, in take\n",
      "    taken = algos.take(\n",
      "            ^^^^^^^^^^^\n",
      "  File \"C:\\Users\\User\\miniconda3\\Lib\\site-packages\\pandas\\core\\algorithms.py\", line 1239, in take\n",
      "    result = arr.take(indices, axis=axis)\n",
      "             ^^^^^^^^^^^^^^^^^^^^^^^^^^^^\n",
      "KeyboardInterrupt\n",
      "\n",
      "During handling of the above exception, another exception occurred:\n",
      "\n",
      "Traceback (most recent call last):\n",
      "  File \"C:\\Users\\User\\miniconda3\\Lib\\site-packages\\IPython\\core\\interactiveshell.py\", line 2170, in showtraceback\n",
      "    stb = self.InteractiveTB.structured_traceback(\n",
      "          ^^^^^^^^^^^^^^^^^^^^^^^^^^^^^^^^^^^^^^^^\n",
      "  File \"C:\\Users\\User\\miniconda3\\Lib\\site-packages\\IPython\\core\\ultratb.py\", line 1457, in structured_traceback\n",
      "    return FormattedTB.structured_traceback(\n",
      "           ^^^^^^^^^^^^^^^^^^^^^^^^^^^^^^^^^\n",
      "  File \"C:\\Users\\User\\miniconda3\\Lib\\site-packages\\IPython\\core\\ultratb.py\", line 1348, in structured_traceback\n",
      "    return VerboseTB.structured_traceback(\n",
      "           ^^^^^^^^^^^^^^^^^^^^^^^^^^^^^^^\n",
      "  File \"C:\\Users\\User\\miniconda3\\Lib\\site-packages\\IPython\\core\\ultratb.py\", line 1195, in structured_traceback\n",
      "    formatted_exception = self.format_exception_as_a_whole(etype, evalue, etb, number_of_lines_of_context,\n",
      "                          ^^^^^^^^^^^^^^^^^^^^^^^^^^^^^^^^^^^^^^^^^^^^^^^^^^^^^^^^^^^^^^^^^^^^^^^^^^^^^^^^\n",
      "  File \"C:\\Users\\User\\miniconda3\\Lib\\site-packages\\IPython\\core\\ultratb.py\", line 1110, in format_exception_as_a_whole\n",
      "    frames.append(self.format_record(record))\n",
      "                  ^^^^^^^^^^^^^^^^^^^^^^^^^^\n",
      "  File \"C:\\Users\\User\\miniconda3\\Lib\\site-packages\\IPython\\core\\ultratb.py\", line 992, in format_record\n",
      "    frame_info.lines, Colors, self.has_colors, lvals\n",
      "    ^^^^^^^^^^^^^^^^\n",
      "  File \"C:\\Users\\User\\miniconda3\\Lib\\site-packages\\IPython\\core\\ultratb.py\", line 804, in lines\n",
      "    return self._sd.lines\n",
      "           ^^^^^^^^^^^^^^\n",
      "  File \"C:\\Users\\User\\miniconda3\\Lib\\site-packages\\stack_data\\utils.py\", line 145, in cached_property_wrapper\n",
      "    value = obj.__dict__[self.func.__name__] = self.func(obj)\n",
      "                                               ^^^^^^^^^^^^^^\n",
      "  File \"C:\\Users\\User\\miniconda3\\Lib\\site-packages\\stack_data\\core.py\", line 734, in lines\n",
      "    pieces = self.included_pieces\n",
      "             ^^^^^^^^^^^^^^^^^^^^\n",
      "  File \"C:\\Users\\User\\miniconda3\\Lib\\site-packages\\stack_data\\utils.py\", line 145, in cached_property_wrapper\n",
      "    value = obj.__dict__[self.func.__name__] = self.func(obj)\n",
      "                                               ^^^^^^^^^^^^^^\n",
      "  File \"C:\\Users\\User\\miniconda3\\Lib\\site-packages\\stack_data\\core.py\", line 677, in included_pieces\n",
      "    scope_pieces = self.scope_pieces\n",
      "                   ^^^^^^^^^^^^^^^^^\n",
      "  File \"C:\\Users\\User\\miniconda3\\Lib\\site-packages\\stack_data\\utils.py\", line 145, in cached_property_wrapper\n",
      "    value = obj.__dict__[self.func.__name__] = self.func(obj)\n",
      "                                               ^^^^^^^^^^^^^^\n",
      "  File \"C:\\Users\\User\\miniconda3\\Lib\\site-packages\\stack_data\\core.py\", line 614, in scope_pieces\n",
      "    scope_start, scope_end = self.source.line_range(self.scope)\n",
      "                             ^^^^^^^^^^^^^^^^^^^^^^^^^^^^^^^^^^\n",
      "  File \"C:\\Users\\User\\miniconda3\\Lib\\site-packages\\stack_data\\core.py\", line 178, in line_range\n",
      "    return line_range(self.asttext(), node)\n",
      "                      ^^^^^^^^^^^^\n",
      "AttributeError: 'Source' object has no attribute 'asttext'\n"
     ]
    }
   ],
   "execution_count": null
  },
  {
   "metadata": {},
   "cell_type": "markdown",
   "source": "# Task c 1",
   "id": "b853604470bc44d"
  },
  {
   "metadata": {
    "ExecuteTime": {
     "end_time": "2025-03-10T18:13:16.630717Z",
     "start_time": "2025-03-10T18:13:16.555771Z"
    }
   },
   "cell_type": "code",
   "source": [
    "clean_data[\"StartTime(UTC)\"] = pd.to_datetime(clean_data[\"StartTime(UTC)\"], errors='coerce')\n",
    "clean_data[\"EndTime(UTC)\"] = pd.to_datetime(clean_data[\"EndTime(UTC)\"], errors='coerce')\n",
    "\n",
    "# Remove rows with missing or incorrect datetime values\n",
    "clean_data = clean_data.dropna(subset=[\"StartTime(UTC)\", \"EndTime(UTC)\"])\n",
    "clean_data = clean_data[clean_data[\"EndTime(UTC)\"] > clean_data[\"StartTime(UTC)\"]]\n",
    "\n",
    "# Calculate Duration in hours\n",
    "clean_data[\"Duration\"] = (clean_data[\"EndTime(UTC)\"] - clean_data[\"StartTime(UTC)\"]).dt.total_seconds() / 3600\n",
    "\n",
    "# Extract the month from StartTime(UTC)\n",
    "clean_data.to_csv(\"output2.csv\", index=False)\n"
   ],
   "id": "2e00007f5645684d",
   "outputs": [
    {
     "name": "stdout",
     "output_type": "stream",
     "text": [
      "Unexpected exception formatting exception. Falling back to standard exception\n"
     ]
    },
    {
     "name": "stderr",
     "output_type": "stream",
     "text": [
      "Traceback (most recent call last):\n",
      "  File \"C:\\Users\\User\\miniconda3\\Lib\\site-packages\\IPython\\core\\interactiveshell.py\", line 3579, in run_code\n",
      "    exec(code_obj, self.user_global_ns, self.user_ns)\n",
      "  File \"C:\\Users\\User\\AppData\\Local\\Temp\\ipykernel_21112\\4133311759.py\", line 12, in <module>\n",
      "    clean_data.to_csv(\"output2.csv\", index=False)\n",
      "  File \"C:\\Users\\User\\miniconda3\\Lib\\site-packages\\pandas\\util\\_decorators.py\", line 333, in wrapper\n",
      "    return func(*args, **kwargs)\n",
      "           ^^^^^^^^^^^^^^^^^^^^^\n",
      "  File \"C:\\Users\\User\\miniconda3\\Lib\\site-packages\\pandas\\core\\generic.py\", line 3967, in to_csv\n",
      "    return DataFrameRenderer(formatter).to_csv(\n",
      "           ^^^^^^^^^^^^^^^^^^^^^^^^^^^^^^^^^^^^\n",
      "  File \"C:\\Users\\User\\miniconda3\\Lib\\site-packages\\pandas\\io\\formats\\format.py\", line 1014, in to_csv\n",
      "    csv_formatter.save()\n",
      "  File \"C:\\Users\\User\\miniconda3\\Lib\\site-packages\\pandas\\io\\formats\\csvs.py\", line 251, in save\n",
      "    with get_handle(\n",
      "         ^^^^^^^^^^^\n",
      "  File \"C:\\Users\\User\\miniconda3\\Lib\\site-packages\\pandas\\io\\common.py\", line 873, in get_handle\n",
      "    handle = open(\n",
      "             ^^^^^\n",
      "PermissionError: [Errno 13] Permission denied: 'output2.csv'\n",
      "\n",
      "During handling of the above exception, another exception occurred:\n",
      "\n",
      "Traceback (most recent call last):\n",
      "  File \"C:\\Users\\User\\miniconda3\\Lib\\site-packages\\IPython\\core\\interactiveshell.py\", line 2170, in showtraceback\n",
      "    stb = self.InteractiveTB.structured_traceback(\n",
      "          ^^^^^^^^^^^^^^^^^^^^^^^^^^^^^^^^^^^^^^^^\n",
      "  File \"C:\\Users\\User\\miniconda3\\Lib\\site-packages\\IPython\\core\\ultratb.py\", line 1457, in structured_traceback\n",
      "    return FormattedTB.structured_traceback(\n",
      "           ^^^^^^^^^^^^^^^^^^^^^^^^^^^^^^^^^\n",
      "  File \"C:\\Users\\User\\miniconda3\\Lib\\site-packages\\IPython\\core\\ultratb.py\", line 1348, in structured_traceback\n",
      "    return VerboseTB.structured_traceback(\n",
      "           ^^^^^^^^^^^^^^^^^^^^^^^^^^^^^^^\n",
      "  File \"C:\\Users\\User\\miniconda3\\Lib\\site-packages\\IPython\\core\\ultratb.py\", line 1195, in structured_traceback\n",
      "    formatted_exception = self.format_exception_as_a_whole(etype, evalue, etb, number_of_lines_of_context,\n",
      "                          ^^^^^^^^^^^^^^^^^^^^^^^^^^^^^^^^^^^^^^^^^^^^^^^^^^^^^^^^^^^^^^^^^^^^^^^^^^^^^^^^\n",
      "  File \"C:\\Users\\User\\miniconda3\\Lib\\site-packages\\IPython\\core\\ultratb.py\", line 1110, in format_exception_as_a_whole\n",
      "    frames.append(self.format_record(record))\n",
      "                  ^^^^^^^^^^^^^^^^^^^^^^^^^^\n",
      "  File \"C:\\Users\\User\\miniconda3\\Lib\\site-packages\\IPython\\core\\ultratb.py\", line 992, in format_record\n",
      "    frame_info.lines, Colors, self.has_colors, lvals\n",
      "    ^^^^^^^^^^^^^^^^\n",
      "  File \"C:\\Users\\User\\miniconda3\\Lib\\site-packages\\IPython\\core\\ultratb.py\", line 804, in lines\n",
      "    return self._sd.lines\n",
      "           ^^^^^^^^^^^^^^\n",
      "  File \"C:\\Users\\User\\miniconda3\\Lib\\site-packages\\stack_data\\utils.py\", line 145, in cached_property_wrapper\n",
      "    value = obj.__dict__[self.func.__name__] = self.func(obj)\n",
      "                                               ^^^^^^^^^^^^^^\n",
      "  File \"C:\\Users\\User\\miniconda3\\Lib\\site-packages\\stack_data\\core.py\", line 734, in lines\n",
      "    pieces = self.included_pieces\n",
      "             ^^^^^^^^^^^^^^^^^^^^\n",
      "  File \"C:\\Users\\User\\miniconda3\\Lib\\site-packages\\stack_data\\utils.py\", line 145, in cached_property_wrapper\n",
      "    value = obj.__dict__[self.func.__name__] = self.func(obj)\n",
      "                                               ^^^^^^^^^^^^^^\n",
      "  File \"C:\\Users\\User\\miniconda3\\Lib\\site-packages\\stack_data\\core.py\", line 677, in included_pieces\n",
      "    scope_pieces = self.scope_pieces\n",
      "                   ^^^^^^^^^^^^^^^^^\n",
      "  File \"C:\\Users\\User\\miniconda3\\Lib\\site-packages\\stack_data\\utils.py\", line 145, in cached_property_wrapper\n",
      "    value = obj.__dict__[self.func.__name__] = self.func(obj)\n",
      "                                               ^^^^^^^^^^^^^^\n",
      "  File \"C:\\Users\\User\\miniconda3\\Lib\\site-packages\\stack_data\\core.py\", line 614, in scope_pieces\n",
      "    scope_start, scope_end = self.source.line_range(self.scope)\n",
      "                             ^^^^^^^^^^^^^^^^^^^^^^^^^^^^^^^^^^\n",
      "  File \"C:\\Users\\User\\miniconda3\\Lib\\site-packages\\stack_data\\core.py\", line 178, in line_range\n",
      "    return line_range(self.asttext(), node)\n",
      "                      ^^^^^^^^^^^^\n",
      "AttributeError: 'Source' object has no attribute 'asttext'\n"
     ]
    }
   ],
   "execution_count": 38
  },
  {
   "metadata": {
    "ExecuteTime": {
     "end_time": "2025-03-11T04:48:58.400266Z",
     "start_time": "2025-03-11T04:48:58.053871Z"
    }
   },
   "cell_type": "code",
   "source": [
    "def assign_season(month):\n",
    "    if month in [12, 1, 2]:\n",
    "        return \"Winter\"\n",
    "    elif month in [3, 4, 5]:\n",
    "        return \"Spring\"\n",
    "    elif month in [6, 7, 8]:\n",
    "        return \"Summer\"\n",
    "    elif month in [9, 10, 11]:\n",
    "        return \"Fall\"\n",
    "    else:\n",
    "        return \"Unknown\"  # Handle missing values\n",
    "\n",
    "# Apply the function to create the Season column\n",
    "clean_data[\"Season\"] = clean_data[\"Month\"].apply(assign_season)\n",
    "\n",
    "# Display the first few rows with the new Season feature\n",
    "print(clean_data[[\"StartTime(UTC)\", \"Month\", \"Season\"]])\n",
    "clean_data.to_csv(\"output2.csv\", index=False)"
   ],
   "id": "7b58148de7def2ad",
   "outputs": [
    {
     "name": "stdout",
     "output_type": "stream",
     "text": [
      "           StartTime(UTC)  Month  Season\n",
      "0     2016-01-06 23:14:00      1  Winter\n",
      "1     2016-01-07 04:14:00      1  Winter\n",
      "2     2016-01-07 05:54:00      1  Winter\n",
      "3     2016-01-08 05:34:00      1  Winter\n",
      "4     2016-01-08 13:54:00      1  Winter\n",
      "...                   ...    ...     ...\n",
      "10571 2021-12-27 09:55:00     12  Winter\n",
      "10572 2021-12-28 15:55:00     12  Winter\n",
      "10573 2021-12-29 02:35:00     12  Winter\n",
      "10574 2021-12-30 07:55:00     12  Winter\n",
      "10575 2021-12-31 06:35:00     12  Winter\n",
      "\n",
      "[10576 rows x 3 columns]\n"
     ]
    }
   ],
   "execution_count": 5
  },
  {
   "metadata": {
    "ExecuteTime": {
     "end_time": "2025-03-11T04:57:19.134577Z",
     "start_time": "2025-03-11T04:57:19.105855Z"
    }
   },
   "cell_type": "code",
   "source": [
    "from sklearn.preprocessing import LabelEncoder\n",
    "import pandas as pd\n",
    "\n",
    "# Ensure \"Severity\" column exists and has valid categorical values\n",
    "if \"Severity\" in clean_data.columns:\n",
    "    label_encoder = LabelEncoder()\n",
    "    clean_data[\"Severity_Label\"] = label_encoder.fit_transform(clean_data[\"Severity\"].astype(str))\n",
    "    print(clean_data[[\"Severity\", \"Severity_Label\"]].head())  # Display the first few rows\n",
    "else:\n",
    "    print(\"Error: 'Severity' column not found in the dataset.\")\n"
   ],
   "id": "38873d564d90d1d4",
   "outputs": [
    {
     "name": "stdout",
     "output_type": "stream",
     "text": [
      "Unexpected exception formatting exception. Falling back to standard exception\n"
     ]
    },
    {
     "name": "stderr",
     "output_type": "stream",
     "text": [
      "Traceback (most recent call last):\n",
      "  File \"C:\\Users\\User\\miniconda3\\Lib\\site-packages\\IPython\\core\\interactiveshell.py\", line 3579, in run_code\n",
      "    exec(code_obj, self.user_global_ns, self.user_ns)\n",
      "  File \"C:\\Users\\User\\AppData\\Local\\Temp\\ipykernel_19788\\4007494599.py\", line 1, in <module>\n",
      "    from sklearn.preprocessing import LabelEncoder\n",
      "ModuleNotFoundError: No module named 'sklearn'\n",
      "\n",
      "During handling of the above exception, another exception occurred:\n",
      "\n",
      "Traceback (most recent call last):\n",
      "  File \"C:\\Users\\User\\miniconda3\\Lib\\site-packages\\IPython\\core\\interactiveshell.py\", line 2170, in showtraceback\n",
      "    stb = self.InteractiveTB.structured_traceback(\n",
      "          ^^^^^^^^^^^^^^^^^^^^^^^^^^^^^^^^^^^^^^^^\n",
      "  File \"C:\\Users\\User\\miniconda3\\Lib\\site-packages\\IPython\\core\\ultratb.py\", line 1457, in structured_traceback\n",
      "    return FormattedTB.structured_traceback(\n",
      "           ^^^^^^^^^^^^^^^^^^^^^^^^^^^^^^^^^\n",
      "  File \"C:\\Users\\User\\miniconda3\\Lib\\site-packages\\IPython\\core\\ultratb.py\", line 1348, in structured_traceback\n",
      "    return VerboseTB.structured_traceback(\n",
      "           ^^^^^^^^^^^^^^^^^^^^^^^^^^^^^^^\n",
      "  File \"C:\\Users\\User\\miniconda3\\Lib\\site-packages\\IPython\\core\\ultratb.py\", line 1195, in structured_traceback\n",
      "    formatted_exception = self.format_exception_as_a_whole(etype, evalue, etb, number_of_lines_of_context,\n",
      "                          ^^^^^^^^^^^^^^^^^^^^^^^^^^^^^^^^^^^^^^^^^^^^^^^^^^^^^^^^^^^^^^^^^^^^^^^^^^^^^^^^\n",
      "  File \"C:\\Users\\User\\miniconda3\\Lib\\site-packages\\IPython\\core\\ultratb.py\", line 1110, in format_exception_as_a_whole\n",
      "    frames.append(self.format_record(record))\n",
      "                  ^^^^^^^^^^^^^^^^^^^^^^^^^^\n",
      "  File \"C:\\Users\\User\\miniconda3\\Lib\\site-packages\\IPython\\core\\ultratb.py\", line 992, in format_record\n",
      "    frame_info.lines, Colors, self.has_colors, lvals\n",
      "    ^^^^^^^^^^^^^^^^\n",
      "  File \"C:\\Users\\User\\miniconda3\\Lib\\site-packages\\IPython\\core\\ultratb.py\", line 804, in lines\n",
      "    return self._sd.lines\n",
      "           ^^^^^^^^^^^^^^\n",
      "  File \"C:\\Users\\User\\miniconda3\\Lib\\site-packages\\stack_data\\utils.py\", line 145, in cached_property_wrapper\n",
      "    value = obj.__dict__[self.func.__name__] = self.func(obj)\n",
      "                                               ^^^^^^^^^^^^^^\n",
      "  File \"C:\\Users\\User\\miniconda3\\Lib\\site-packages\\stack_data\\core.py\", line 734, in lines\n",
      "    pieces = self.included_pieces\n",
      "             ^^^^^^^^^^^^^^^^^^^^\n",
      "  File \"C:\\Users\\User\\miniconda3\\Lib\\site-packages\\stack_data\\utils.py\", line 145, in cached_property_wrapper\n",
      "    value = obj.__dict__[self.func.__name__] = self.func(obj)\n",
      "                                               ^^^^^^^^^^^^^^\n",
      "  File \"C:\\Users\\User\\miniconda3\\Lib\\site-packages\\stack_data\\core.py\", line 677, in included_pieces\n",
      "    scope_pieces = self.scope_pieces\n",
      "                   ^^^^^^^^^^^^^^^^^\n",
      "  File \"C:\\Users\\User\\miniconda3\\Lib\\site-packages\\stack_data\\utils.py\", line 145, in cached_property_wrapper\n",
      "    value = obj.__dict__[self.func.__name__] = self.func(obj)\n",
      "                                               ^^^^^^^^^^^^^^\n",
      "  File \"C:\\Users\\User\\miniconda3\\Lib\\site-packages\\stack_data\\core.py\", line 614, in scope_pieces\n",
      "    scope_start, scope_end = self.source.line_range(self.scope)\n",
      "                             ^^^^^^^^^^^^^^^^^^^^^^^^^^^^^^^^^^\n",
      "  File \"C:\\Users\\User\\miniconda3\\Lib\\site-packages\\stack_data\\core.py\", line 178, in line_range\n",
      "    return line_range(self.asttext(), node)\n",
      "                      ^^^^^^^^^^^^\n",
      "AttributeError: 'Source' object has no attribute 'asttext'\n"
     ]
    }
   ],
   "execution_count": 12
  },
  {
   "metadata": {
    "ExecuteTime": {
     "end_time": "2025-03-11T04:54:19.400855Z",
     "start_time": "2025-03-11T04:54:19.355066Z"
    }
   },
   "cell_type": "code",
   "source": [
    "# Apply One-Hot Encoding\n",
    "clean_data = pd.get_dummies(clean_data, columns=[\"Severity\"], prefix=\"Severity\")\n",
    "\n",
    "# Show the transformed dataset\n",
    "print(clean_data.head())\n"
   ],
   "id": "ce05db0994ea5e",
   "outputs": [
    {
     "name": "stdout",
     "output_type": "stream",
     "text": [
      "Unexpected exception formatting exception. Falling back to standard exception\n"
     ]
    },
    {
     "name": "stderr",
     "output_type": "stream",
     "text": [
      "Traceback (most recent call last):\n",
      "  File \"C:\\Users\\User\\miniconda3\\Lib\\site-packages\\IPython\\core\\interactiveshell.py\", line 3579, in run_code\n",
      "    exec(code_obj, self.user_global_ns, self.user_ns)\n",
      "  File \"C:\\Users\\User\\AppData\\Local\\Temp\\ipykernel_19788\\933671873.py\", line 2, in <module>\n",
      "    clean_data = pd.get_dummies(clean_data, columns=[\"Severity\"], prefix=\"Severity\")\n",
      "                 ^^^^^^^^^^^^^^^^^^^^^^^^^^^^^^^^^^^^^^^^^^^^^^^^^^^^^^^^^^^^^^^^^^^\n",
      "  File \"C:\\Users\\User\\miniconda3\\Lib\\site-packages\\pandas\\core\\reshape\\encoding.py\", line 169, in get_dummies\n",
      "    data_to_encode = data[columns]\n",
      "                     ~~~~^^^^^^^^^\n",
      "  File \"C:\\Users\\User\\miniconda3\\Lib\\site-packages\\pandas\\core\\frame.py\", line 4108, in __getitem__\n",
      "    indexer = self.columns._get_indexer_strict(key, \"columns\")[1]\n",
      "              ^^^^^^^^^^^^^^^^^^^^^^^^^^^^^^^^^^^^^^^^^^^^^^^^\n",
      "  File \"C:\\Users\\User\\miniconda3\\Lib\\site-packages\\pandas\\core\\indexes\\base.py\", line 6200, in _get_indexer_strict\n",
      "    self._raise_if_missing(keyarr, indexer, axis_name)\n",
      "  File \"C:\\Users\\User\\miniconda3\\Lib\\site-packages\\pandas\\core\\indexes\\base.py\", line 6249, in _raise_if_missing\n",
      "    raise KeyError(f\"None of [{key}] are in the [{axis_name}]\")\n",
      "KeyError: \"None of [Index(['Severity'], dtype='object')] are in the [columns]\"\n",
      "\n",
      "During handling of the above exception, another exception occurred:\n",
      "\n",
      "Traceback (most recent call last):\n",
      "  File \"C:\\Users\\User\\miniconda3\\Lib\\site-packages\\IPython\\core\\interactiveshell.py\", line 2170, in showtraceback\n",
      "    stb = self.InteractiveTB.structured_traceback(\n",
      "          ^^^^^^^^^^^^^^^^^^^^^^^^^^^^^^^^^^^^^^^^\n",
      "  File \"C:\\Users\\User\\miniconda3\\Lib\\site-packages\\IPython\\core\\ultratb.py\", line 1457, in structured_traceback\n",
      "    return FormattedTB.structured_traceback(\n",
      "           ^^^^^^^^^^^^^^^^^^^^^^^^^^^^^^^^^\n",
      "  File \"C:\\Users\\User\\miniconda3\\Lib\\site-packages\\IPython\\core\\ultratb.py\", line 1348, in structured_traceback\n",
      "    return VerboseTB.structured_traceback(\n",
      "           ^^^^^^^^^^^^^^^^^^^^^^^^^^^^^^^\n",
      "  File \"C:\\Users\\User\\miniconda3\\Lib\\site-packages\\IPython\\core\\ultratb.py\", line 1195, in structured_traceback\n",
      "    formatted_exception = self.format_exception_as_a_whole(etype, evalue, etb, number_of_lines_of_context,\n",
      "                          ^^^^^^^^^^^^^^^^^^^^^^^^^^^^^^^^^^^^^^^^^^^^^^^^^^^^^^^^^^^^^^^^^^^^^^^^^^^^^^^^\n",
      "  File \"C:\\Users\\User\\miniconda3\\Lib\\site-packages\\IPython\\core\\ultratb.py\", line 1110, in format_exception_as_a_whole\n",
      "    frames.append(self.format_record(record))\n",
      "                  ^^^^^^^^^^^^^^^^^^^^^^^^^^\n",
      "  File \"C:\\Users\\User\\miniconda3\\Lib\\site-packages\\IPython\\core\\ultratb.py\", line 992, in format_record\n",
      "    frame_info.lines, Colors, self.has_colors, lvals\n",
      "    ^^^^^^^^^^^^^^^^\n",
      "  File \"C:\\Users\\User\\miniconda3\\Lib\\site-packages\\IPython\\core\\ultratb.py\", line 804, in lines\n",
      "    return self._sd.lines\n",
      "           ^^^^^^^^^^^^^^\n",
      "  File \"C:\\Users\\User\\miniconda3\\Lib\\site-packages\\stack_data\\utils.py\", line 145, in cached_property_wrapper\n",
      "    value = obj.__dict__[self.func.__name__] = self.func(obj)\n",
      "                                               ^^^^^^^^^^^^^^\n",
      "  File \"C:\\Users\\User\\miniconda3\\Lib\\site-packages\\stack_data\\core.py\", line 734, in lines\n",
      "    pieces = self.included_pieces\n",
      "             ^^^^^^^^^^^^^^^^^^^^\n",
      "  File \"C:\\Users\\User\\miniconda3\\Lib\\site-packages\\stack_data\\utils.py\", line 145, in cached_property_wrapper\n",
      "    value = obj.__dict__[self.func.__name__] = self.func(obj)\n",
      "                                               ^^^^^^^^^^^^^^\n",
      "  File \"C:\\Users\\User\\miniconda3\\Lib\\site-packages\\stack_data\\core.py\", line 677, in included_pieces\n",
      "    scope_pieces = self.scope_pieces\n",
      "                   ^^^^^^^^^^^^^^^^^\n",
      "  File \"C:\\Users\\User\\miniconda3\\Lib\\site-packages\\stack_data\\utils.py\", line 145, in cached_property_wrapper\n",
      "    value = obj.__dict__[self.func.__name__] = self.func(obj)\n",
      "                                               ^^^^^^^^^^^^^^\n",
      "  File \"C:\\Users\\User\\miniconda3\\Lib\\site-packages\\stack_data\\core.py\", line 614, in scope_pieces\n",
      "    scope_start, scope_end = self.source.line_range(self.scope)\n",
      "                             ^^^^^^^^^^^^^^^^^^^^^^^^^^^^^^^^^^\n",
      "  File \"C:\\Users\\User\\miniconda3\\Lib\\site-packages\\stack_data\\core.py\", line 178, in line_range\n",
      "    return line_range(self.asttext(), node)\n",
      "                      ^^^^^^^^^^^^\n",
      "AttributeError: 'Source' object has no attribute 'asttext'\n"
     ]
    }
   ],
   "execution_count": 9
  },
  {
   "metadata": {},
   "cell_type": "markdown",
   "source": "# Task d\n",
   "id": "fb9ef61a8c1891a0"
  },
  {
   "metadata": {
    "ExecuteTime": {
     "end_time": "2025-03-10T17:59:01.380879Z",
     "start_time": "2025-03-10T17:59:01.366688Z"
    }
   },
   "cell_type": "code",
   "source": [
    "# Calculate correlation between Duration and Precipitation\n",
    "correlation = clean_data[[\"Duration\", \"Precipitation(in)\"]].corr().iloc[0,1]\n",
    "\n",
    "print(f\"Correlation between Duration and Precipitation: {correlation}\")\n"
   ],
   "id": "dc9e8d10437cba31",
   "outputs": [
    {
     "name": "stdout",
     "output_type": "stream",
     "text": [
      "Correlation between Duration and Precipitation: 0.015909284110328586\n"
     ]
    }
   ],
   "execution_count": 13
  },
  {
   "metadata": {
    "ExecuteTime": {
     "end_time": "2025-03-10T17:58:56.536858Z",
     "start_time": "2025-03-10T17:58:56.314581Z"
    }
   },
   "cell_type": "code",
   "source": [
    "import matplotlib.pyplot as plt\n",
    "import seaborn as sns\n",
    "\n",
    "Q1 = clean_data[\"Precipitation(in)\"].quantile(0.25)\n",
    "Q3 = clean_data[\"Precipitation(in)\"].quantile(0.75)\n",
    "\n",
    "# Calculate Interquartile Range (IQR)\n",
    "IQR = Q3 - Q1\n",
    "\n",
    "# Define lower and upper bounds for outliers\n",
    "lower_bound = Q1 - 1.5 * IQR\n",
    "upper_bound = Q3 + 1.5 * IQR\n",
    "\n",
    "# Identify outliers\n",
    "outliers = clean_data[(clean_data[\"Precipitation(in)\"] < lower_bound) |\n",
    "                      (clean_data[\"Precipitation(in)\"] > upper_bound)]\n",
    "\n",
    "# Print the number of outliers detected\n",
    "print(f\"Number of outliers detected: {outliers.shape[0]}\")\n",
    "\n",
    "# Visualization - Boxplot of Precipitation with Outliers\n",
    "plt.figure(figsize=(8, 5))\n",
    "sns.boxplot(y=clean_data[\"Precipitation(in)\"], color=\"skyblue\")\n",
    "plt.title(\"Boxplot of Precipitation (in) Showing Outliers\")\n",
    "plt.ylabel(\"Precipitation (in)\")\n",
    "plt.grid(True)\n",
    "\n",
    "# Show plot\n",
    "plt.show()"
   ],
   "id": "c4a2d7a11c7ced17",
   "outputs": [
    {
     "name": "stdout",
     "output_type": "stream",
     "text": [
      "Number of outliers detected: 2500\n"
     ]
    },
    {
     "data": {
      "text/plain": [
       "<Figure size 800x500 with 1 Axes>"
      ],
      "image/png": "[encoded data removed]"
     },
     "metadata": {},
     "output_type": "display_data"
    }
   ],
   "execution_count": 12
  },
  {
   "metadata": {
    "ExecuteTime": {
     "end_time": "2025-03-10T18:00:11.417062Z",
     "start_time": "2025-03-10T18:00:11.203680Z"
    }
   },
   "cell_type": "code",
   "source": [
    "correlation_matrix = clean_data[[\"Duration\", \"Precipitation(in)\"]].corr()\n",
    "\n",
    "# Plot the heatmap\n",
    "plt.figure(figsize=(6, 4))\n",
    "sns.heatmap(correlation_matrix, annot=True, cmap=\"coolwarm\", fmt=\".2f\", linewidths=0.5)\n",
    "\n",
    "# Title\n",
    "plt.title(\"Heatmap of Correlation between Duration and Precipitation\")\n",
    "plt.show()"
   ],
   "id": "9df8ff53f0baadfe",
   "outputs": [
    {
     "data": {
      "text/plain": [
       "<Figure size 600x400 with 2 Axes>"
      ],
      "image/png": "[encoded data removed]"
     },
     "metadata": {},
     "output_type": "display_data"
    }
   ],
   "execution_count": 14
  },
  {
   "metadata": {},
   "cell_type": "markdown",
   "source": "The correlation analysis between Duration and Precipitation reveals a very weak positive relationship (0.016), indicating that the duration of an event has little to no impact on the amount of precipitation. This suggests that precipitation levels are influenced by other meteorological factors rather than just the length of the event. As a result, using Duration alone as a predictor for precipitation would not be effective.",
   "id": "7d1d880dac6210ec"
  },
  {
   "metadata": {
    "ExecuteTime": {
     "end_time": "2025-03-10T18:01:10.384420Z",
     "start_time": "2025-03-10T18:01:10.096091Z"
    }
   },
   "cell_type": "code",
   "source": [
    "clean_data = clean_data.dropna(subset=[\"LocationLat\", \"LocationLng\"])\n",
    "\n",
    "# Create scatter plot for geospatial analysis\n",
    "plt.figure(figsize=(10, 6))\n",
    "plt.scatter(clean_data[\"LocationLng\"], clean_data[\"LocationLat\"], alpha=0.5, c='red', edgecolors='black')\n",
    "\n",
    "# Labels and title\n",
    "plt.xlabel(\"Longitude\")\n",
    "plt.ylabel(\"Latitude\")\n",
    "plt.title(\"Geospatial Distribution of Weather Events\")\n",
    "plt.grid(True)\n",
    "\n",
    "# Show plot\n",
    "plt.show()"
   ],
   "id": "c78cca11262dade4",
   "outputs": [
    {
     "data": {
      "text/plain": [
       "<Figure size 1000x600 with 1 Axes>"
      ],
      "image/png": "[encoded data removed]"
     },
     "metadata": {},
     "output_type": "display_data"
    }
   ],
   "execution_count": 15
  }
 ],
 "metadata": {
  "kernelspec": {
   "display_name": "Python 3",
   "language": "python",
   "name": "python3"
  },
  "language_info": {
   "codemirror_mode": {
    "name": "ipython",
    "version": 2
   },
   "file_extension": ".py",
   "mimetype": "text/x-python",
   "name": "python",
   "nbconvert_exporter": "python",
   "pygments_lexer": "ipython2",
   "version": "2.7.6"
  }
 },
 "nbformat": 4,
 "nbformat_minor": 5
}
